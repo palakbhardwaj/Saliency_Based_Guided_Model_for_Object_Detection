{
 "cells": [
  {
   "cell_type": "code",
   "execution_count": null,
   "metadata": {
    "colab": {
     "base_uri": "https://localhost:8080/"
    },
    "id": "IumQDurP0v5G",
    "outputId": "5542a62b-5654-492f-dca2-6e2e8266d5c9"
   },
   "outputs": [
    {
     "name": "stdout",
     "output_type": "stream",
     "text": [
      "Mounted at /content/drive\n"
     ]
    }
   ],
   "source": [
    "from google.colab import drive\n",
    "drive.mount('/content/drive')"
   ]
  },
  {
   "cell_type": "code",
   "execution_count": null,
   "metadata": {
    "colab": {
     "base_uri": "https://localhost:8080/"
    },
    "id": "l8aJpfBC0zeA",
    "outputId": "9642d8b1-75c2-4127-93a2-05f23b88ad51"
   },
   "outputs": [
    {
     "name": "stdout",
     "output_type": "stream",
     "text": [
      "['VOCtrainval_11-May-2012.tar', 'VOC2012_train_val', 'VOC2012_test', 'VOCdevkit']\n"
     ]
    }
   ],
   "source": [
    "import os\n",
    "\n",
    "folder_path = '/content/drive/MyDrive/pascal-voc-2012-dataset'\n",
    "print(os.listdir(folder_path))\n"
   ]
  },
  {
   "cell_type": "code",
   "execution_count": null,
   "metadata": {
    "id": "xuRyvVem01nH"
   },
   "outputs": [],
   "source": [
    "dataset_path = '/content/drive/MyDrive/pascal-voc-2012-dataset'\n"
   ]
  },
  {
   "cell_type": "code",
   "execution_count": null,
   "metadata": {
    "colab": {
     "base_uri": "https://localhost:8080/"
    },
    "id": "dihBYnSi1GHU",
    "outputId": "271e9b15-3097-41f8-e146-ae84cebab75d"
   },
   "outputs": [
    {
     "name": "stdout",
     "output_type": "stream",
     "text": [
      "Contents of the training dataset:\n",
      "['devkit_doc.pdf', 'JPEGImages', 'ImageSets', 'SegmentationClass', 'Annotations', 'SegmentationObject']\n"
     ]
    }
   ],
   "source": [
    "train_path = f\"{dataset_path}/VOC2012_train_val/VOC2012_train_val\"\n",
    "print(\"Contents of the training dataset:\")\n",
    "print(os.listdir(train_path))\n"
   ]
  },
  {
   "cell_type": "code",
   "execution_count": null,
   "metadata": {
    "colab": {
     "base_uri": "https://localhost:8080/"
    },
    "id": "TGKvqFtL08VZ",
    "outputId": "b08c9ef6-7705-47e0-81c9-622b68243189"
   },
   "outputs": [
    {
     "name": "stdout",
     "output_type": "stream",
     "text": [
      "Image files:\n",
      "['2012_002321.jpg', '2012_002271.jpg', '2012_002265.jpg', '2012_002286.jpg', '2012_002314.jpg', '2012_002294.jpg', '2012_002355.jpg', '2012_002338.jpg', '2012_002319.jpg', '2012_002409.jpg']\n"
     ]
    }
   ],
   "source": [
    "images_path = f\"{train_path}/JPEGImages\"\n",
    "print(\"Image files:\")\n",
    "print(os.listdir(images_path)[:10])  # Display first 10 images\n"
   ]
  },
  {
   "cell_type": "code",
   "execution_count": null,
   "metadata": {
    "colab": {
     "base_uri": "https://localhost:8080/"
    },
    "id": "nmgOhgfO0-FF",
    "outputId": "ca0d02cf-8b27-402c-c3f3-c662686e5d2b"
   },
   "outputs": [
    {
     "name": "stdout",
     "output_type": "stream",
     "text": [
      "Annotation files:\n",
      "['2012_002316.xml', '2012_002364.xml', '2012_002358.xml', '2012_002303.xml', '2012_002366.xml', '2012_002340.xml', '2012_002308.xml', '2012_002309.xml', '2012_002313.xml', '2012_002301.xml']\n"
     ]
    }
   ],
   "source": [
    "annotations_path = f\"{train_path}/Annotations\"\n",
    "print(\"Annotation files:\")\n",
    "print(os.listdir(annotations_path)[:10])  # Display first 10 annotations\n"
   ]
  },
  {
   "cell_type": "code",
   "execution_count": null,
   "metadata": {
    "colab": {
     "base_uri": "https://localhost:8080/"
    },
    "id": "_uTaYgar1LD2",
    "outputId": "26682d9d-4e0b-4cbf-fddb-762225062a01"
   },
   "outputs": [
    {
     "name": "stdout",
     "output_type": "stream",
     "text": [
      "Processing the dataset...\n",
      "Image: /content/drive/MyDrive/pascal-voc-2012-dataset/VOC2012_train_val/VOC2012_train_val/JPEGImages/2012_002321.jpg\n",
      "Annotation: /content/drive/MyDrive/pascal-voc-2012-dataset/VOC2012_train_val/VOC2012_train_val/Annotations/2012_002321.xml\n",
      " - Size: (500, 358), Mode: RGB\n",
      "Image: /content/drive/MyDrive/pascal-voc-2012-dataset/VOC2012_train_val/VOC2012_train_val/JPEGImages/2012_002271.jpg\n",
      "Annotation: /content/drive/MyDrive/pascal-voc-2012-dataset/VOC2012_train_val/VOC2012_train_val/Annotations/2012_002271.xml\n",
      " - Size: (400, 500), Mode: RGB\n",
      "Image: /content/drive/MyDrive/pascal-voc-2012-dataset/VOC2012_train_val/VOC2012_train_val/JPEGImages/2012_002265.jpg\n",
      "Annotation: /content/drive/MyDrive/pascal-voc-2012-dataset/VOC2012_train_val/VOC2012_train_val/Annotations/2012_002265.xml\n",
      " - Size: (375, 500), Mode: RGB\n",
      "Image: /content/drive/MyDrive/pascal-voc-2012-dataset/VOC2012_train_val/VOC2012_train_val/JPEGImages/2012_002286.jpg\n",
      "Annotation: /content/drive/MyDrive/pascal-voc-2012-dataset/VOC2012_train_val/VOC2012_train_val/Annotations/2012_002286.xml\n",
      " - Size: (500, 333), Mode: RGB\n",
      "Image: /content/drive/MyDrive/pascal-voc-2012-dataset/VOC2012_train_val/VOC2012_train_val/JPEGImages/2012_002314.jpg\n",
      "Annotation: /content/drive/MyDrive/pascal-voc-2012-dataset/VOC2012_train_val/VOC2012_train_val/Annotations/2012_002314.xml\n",
      " - Size: (500, 440), Mode: RGB\n"
     ]
    }
   ],
   "source": [
    "import os\n",
    "from PIL import Image\n",
    "\n",
    "# Paths\n",
    "dataset_path = '/content/drive/MyDrive/pascal-voc-2012-dataset'\n",
    "train_path = f\"{dataset_path}/VOC2012_train_val/VOC2012_train_val\"\n",
    "\n",
    "# JPEGImages and Annotations paths\n",
    "images_path = f\"{train_path}/JPEGImages\"\n",
    "annotations_path = f\"{train_path}/Annotations\"\n",
    "\n",
    "# Display information about images and annotations\n",
    "print(\"Processing the dataset...\")\n",
    "\n",
    "# Iterate through a few images\n",
    "for img_file in os.listdir(images_path)[:5]:  # Process the first 5 images\n",
    "    img_path = os.path.join(images_path, img_file)\n",
    "    annotation_path = os.path.join(annotations_path, img_file.replace('.jpg', '.xml'))\n",
    "\n",
    "    print(f\"Image: {img_path}\")\n",
    "    print(f\"Annotation: {annotation_path}\")\n",
    "\n",
    "    # Open and display image details\n",
    "    with Image.open(img_path) as img:\n",
    "        print(f\" - Size: {img.size}, Mode: {img.mode}\")\n"
   ]
  },
  {
   "cell_type": "code",
   "execution_count": null,
   "metadata": {
    "id": "CLxRdntc1NT2"
   },
   "outputs": [],
   "source": [
    "import torch\n",
    "import torchvision\n",
    "from torchvision.models.detection import FasterRCNN\n",
    "from torchvision.models.detection.rpn import AnchorGenerator\n",
    "from torchvision.models import vgg16\n",
    "from torch.utils.data import Dataset, DataLoader, random_split\n",
    "import os\n",
    "from PIL import Image\n",
    "import xml.etree.ElementTree as ET\n",
    "import torch.optim as optim\n",
    "from torchvision import transforms\n",
    "import matplotlib.pyplot as plt\n"
   ]
  },
  {
   "cell_type": "code",
   "execution_count": null,
   "metadata": {
    "id": "2SY6l6761PPt"
   },
   "outputs": [],
   "source": [
    "import os\n",
    "import torch\n",
    "from torch.utils.data import Dataset\n",
    "from PIL import Image\n",
    "import xml.etree.ElementTree as ET\n",
    "\n",
    "class PascalVOCDataset(Dataset):\n",
    "    def __init__(self, root_dir, transform=None):\n",
    "        self.root_dir = root_dir\n",
    "        self.image_dir = os.path.join(root_dir, 'JPEGImages')\n",
    "        self.annotations_dir = os.path.join(root_dir, 'Annotations')\n",
    "        self.image_ids = [f[:-4] for f in os.listdir(self.image_dir) if f.endswith('.jpg')]\n",
    "        self.transform = transform\n",
    "\n",
    "    def __len__(self):\n",
    "        return len(self.image_ids)\n",
    "\n",
    "    def __getitem__(self, idx):\n",
    "        image_id = self.image_ids[idx]\n",
    "        img_path = os.path.join(self.image_dir, f'{image_id}.jpg')\n",
    "        ann_path = os.path.join(self.annotations_dir, f'{image_id}.xml')\n",
    "\n",
    "        img = Image.open(img_path).convert(\"RGB\")\n",
    "        boxes, labels = self.parse_voc_annotation(ann_path)\n",
    "\n",
    "        if self.transform:\n",
    "            img = self.transform(img)\n",
    "\n",
    "        target = {'boxes': boxes, 'labels': labels}\n",
    "        return img, target\n",
    "\n",
    "    def parse_voc_annotation(self, ann_path):\n",
    "        tree = ET.parse(ann_path)\n",
    "        root = tree.getroot()\n",
    "\n",
    "        boxes = []\n",
    "        labels = []\n",
    "        for obj in root.findall('object'):\n",
    "            label = obj.find('name').text\n",
    "            bbox = obj.find('bndbox')\n",
    "            xmin = float(bbox.find('xmin').text)\n",
    "            ymin = float(bbox.find('ymin').text)\n",
    "            xmax = float(bbox.find('xmax').text)\n",
    "            ymax = float(bbox.find('ymax').text)\n",
    "            boxes.append([xmin, ymin, xmax, ymax])\n",
    "            labels.append(1)\n",
    "\n",
    "        boxes_tensor = torch.tensor(boxes, dtype=torch.float32)\n",
    "        labels_tensor = torch.tensor(labels, dtype=torch.int64)\n",
    "        return boxes_tensor, labels_tensor\n"
   ]
  },
  {
   "cell_type": "code",
   "execution_count": null,
   "metadata": {
    "colab": {
     "base_uri": "https://localhost:8080/"
    },
    "id": "GOQrgG6F1SXx",
    "outputId": "8289973e-20a4-468f-cf84-e3c9e5c8489c"
   },
   "outputs": [
    {
     "name": "stdout",
     "output_type": "stream",
     "text": [
      "Dataset size: 17125\n"
     ]
    }
   ],
   "source": [
    "dataset_path = '/content/drive/MyDrive/pascal-voc-2012-dataset/VOC2012_train_val/VOC2012_train_val'\n",
    "dataset = PascalVOCDataset(root_dir=dataset_path)\n",
    "\n",
    "print(f\"Dataset size: {len(dataset)}\")\n"
   ]
  },
  {
   "cell_type": "code",
   "execution_count": null,
   "metadata": {
    "colab": {
     "base_uri": "https://localhost:8080/"
    },
    "id": "IbApgYnh1aCU",
    "outputId": "32fb5944-ec75-4b60-fc93-08ba198651e5"
   },
   "outputs": [
    {
     "name": "stdout",
     "output_type": "stream",
     "text": [
      "['VOC2012_train_val']\n"
     ]
    }
   ],
   "source": [
    "import os\n",
    "\n",
    "root_dir = '/content/drive/MyDrive/pascal-voc-2012-dataset/VOC2012_train_val'\n",
    "\n",
    "# List contents of the VOC2012_train_val directory\n",
    "print(os.listdir(root_dir))\n"
   ]
  },
  {
   "cell_type": "code",
   "execution_count": null,
   "metadata": {
    "colab": {
     "base_uri": "https://localhost:8080/"
    },
    "id": "peUOniun1UTx",
    "outputId": "ac94a3fc-c304-419a-bbf7-683b2ffd250f"
   },
   "outputs": [
    {
     "name": "stdout",
     "output_type": "stream",
     "text": [
      "['VOC2012_train_val']\n"
     ]
    }
   ],
   "source": [
    "print(os.listdir(root_dir))\n"
   ]
  },
  {
   "cell_type": "code",
   "execution_count": null,
   "metadata": {
    "id": "MD3ey6Wu1deG"
   },
   "outputs": [],
   "source": [
    "class PascalVOCDataset:\n",
    "    def __init__(self, root_dir, transform=None):\n",
    "        self.image_dir = os.path.join(root_dir, 'JPEGImages')  # Updated path\n",
    "        self.annotations_dir = os.path.join(root_dir, 'Annotations')  # Updated path\n",
    "        self.image_ids = [f[:-4] for f in os.listdir(self.image_dir) if f.endswith('.jpg')]\n",
    "        self.transform = transform\n",
    "\n",
    "    def __len__(self):\n",
    "        return len(self.image_ids)\n",
    "\n",
    "    def __getitem__(self, idx):\n",
    "        # Implement the method to load an image and its annotations\n",
    "        pass\n"
   ]
  },
  {
   "cell_type": "code",
   "execution_count": null,
   "metadata": {
    "id": "HqnY3KLN1f-P"
   },
   "outputs": [],
   "source": [
    "root_dir = '/content/drive/MyDrive/pascal-voc-2012-dataset/VOC2012_train_val'\n"
   ]
  },
  {
   "cell_type": "code",
   "execution_count": null,
   "metadata": {
    "colab": {
     "base_uri": "https://localhost:8080/"
    },
    "id": "qozRUwLY1gXG",
    "outputId": "e61ac458-f53d-42f5-84a8-26e5f3139f0f"
   },
   "outputs": [
    {
     "name": "stderr",
     "output_type": "stream",
     "text": [
      "/usr/local/lib/python3.11/dist-packages/torchvision/models/_utils.py:208: UserWarning: The parameter 'pretrained' is deprecated since 0.13 and may be removed in the future, please use 'weights' instead.\n",
      "  warnings.warn(\n",
      "/usr/local/lib/python3.11/dist-packages/torchvision/models/_utils.py:223: UserWarning: Arguments other than a weight enum or `None` for 'weights' are deprecated since 0.13 and may be removed in the future. The current behavior is equivalent to passing `weights=VGG16_Weights.IMAGENET1K_V1`. You can also use `weights=VGG16_Weights.DEFAULT` to get the most up-to-date weights.\n",
      "  warnings.warn(msg)\n",
      "Downloading: \"https://download.pytorch.org/models/vgg16-397923af.pth\" to /root/.cache/torch/hub/checkpoints/vgg16-397923af.pth\n",
      "100%|██████████| 528M/528M [00:03<00:00, 150MB/s]\n"
     ]
    }
   ],
   "source": [
    "# Define Faster R-CNN with VGG16 Backbone\n",
    "backbone = vgg16(pretrained=True).features\n",
    "backbone.out_channels = 512\n",
    "\n",
    "# Define the RPN Anchor Generator\n",
    "anchor_generator = AnchorGenerator(\n",
    "    sizes=((32, 64, 128, 256, 512),),\n",
    "    aspect_ratios=((0.5, 1.0, 2.0),)\n",
    ")\n",
    "\n",
    "# Define the ROI Pooler\n",
    "roi_pooler = torchvision.ops.MultiScaleRoIAlign(\n",
    "    featmap_names=['0'],\n",
    "    output_size=7,\n",
    "    sampling_ratio=2\n",
    ")\n"
   ]
  },
  {
   "cell_type": "code",
   "execution_count": null,
   "metadata": {
    "colab": {
     "base_uri": "https://localhost:8080/"
    },
    "id": "v03nnIJ-1jQ-",
    "outputId": "182165f6-446f-4829-8c78-09612ed976fc"
   },
   "outputs": [
    {
     "name": "stdout",
     "output_type": "stream",
     "text": [
      "Total images in the dataset: 17125\n"
     ]
    }
   ],
   "source": [
    "# Import necessary modules\n",
    "import os\n",
    "from torchvision import transforms\n",
    "from torch.utils.data import Subset\n",
    "import random\n",
    "\n",
    "# Define the PascalVOCDataset class (make sure this is already included)\n",
    "# If not, refer to the earlier provided PascalVOCDataset class definition.\n",
    "\n",
    "# Define dataset path\n",
    "dataset_path = '/content/drive/MyDrive/pascal-voc-2012-dataset/VOC2012_train_val/VOC2012_train_val'\n",
    "\n",
    "# Define transformations\n",
    "transform = transforms.Compose([\n",
    "    transforms.ToTensor()\n",
    "])\n",
    "\n",
    "# Instantiate the dataset\n",
    "train_dataset = PascalVOCDataset(root_dir=dataset_path, transform=transform)\n",
    "\n",
    "# Get the total number of images\n",
    "total_images = len(train_dataset)\n",
    "\n",
    "# Calculate 0.5% of the dataset size\n",
    "subset_size = int(0.005 * total_images)\n",
    "\n",
    "# Ensure at least 1 sample is selected\n",
    "if subset_size < 1:\n",
    "    subset_size = 1\n",
    "\n",
    "# Select a random subset of indices\n",
    "random_indices = random.sample(range(total_images), subset_size)\n",
    "\n",
    "# Create a subset of the dataset\n",
    "subset_dataset = Subset(train_dataset, random_indices)\n",
    "\n",
    "# Create a DataLoader for the subset\n",
    "subset_loader = DataLoader(subset_dataset, batch_size=4, shuffle=True, collate_fn=lambda x: tuple(zip(*x)))\n",
    "\n",
    "# Verify the subset size\n",
    "print(f\"Total images in the dataset: {total_images}\")\n",
    "# print(f\"Subset size (0.5%): {subset_size}\")\n"
   ]
  },
  {
   "cell_type": "code",
   "execution_count": null,
   "metadata": {
    "colab": {
     "base_uri": "https://localhost:8080/"
    },
    "id": "E9eU5NBJ2BSp",
    "outputId": "334e91ba-82d0-49d5-db50-e41fb4766cbc"
   },
   "outputs": [
    {
     "name": "stdout",
     "output_type": "stream",
     "text": [
      "Epoch 1/1\n"
     ]
    },
    {
     "name": "stderr",
     "output_type": "stream",
     "text": []
    },
    {
     "name": "stdout",
     "output_type": "stream",
     "text": [
      "Epoch 1, Total Loss: 25.0391\n",
      "Training of the dataset complete.\n"
     ]
    },
    {
     "name": "stderr",
     "output_type": "stream",
     "text": [
      "Evaluating IoU: 100%|██████████| 85/85 [12:16<00:00,  8.66s/it]"
     ]
    },
    {
     "name": "stdout",
     "output_type": "stream",
     "text": [
      "Average IoU over the evaluation subset: 0.1509\n"
     ]
    },
    {
     "name": "stderr",
     "output_type": "stream",
     "text": [
      "\n"
     ]
    }
   ],
   "source": [
    "import os\n",
    "import random\n",
    "import torch\n",
    "from torch.utils.data import Dataset, DataLoader, Subset\n",
    "from torchvision import transforms\n",
    "from torchvision.models.detection import FasterRCNN\n",
    "from torchvision.models.detection.rpn import AnchorGenerator\n",
    "from torchvision.models import vgg16\n",
    "import torchvision  # Needed for torchvision.ops.MultiScaleRoIAlign\n",
    "from tqdm import tqdm\n",
    "from PIL import Image\n",
    "import xml.etree.ElementTree as ET\n",
    "\n",
    "# Define PascalVOCDataset\n",
    "class PascalVOCDataset(Dataset):\n",
    "    def __init__(self, root_dir, transform=None):\n",
    "        self.root_dir = root_dir\n",
    "        self.image_dir = os.path.join(root_dir, 'JPEGImages')\n",
    "        self.annotations_dir = os.path.join(root_dir, 'Annotations')\n",
    "        self.image_ids = [f[:-4] for f in os.listdir(self.image_dir) if f.endswith('.jpg')]\n",
    "        self.transform = transform\n",
    "\n",
    "    def __len__(self):\n",
    "        return len(self.image_ids)\n",
    "\n",
    "    def __getitem__(self, idx):\n",
    "        image_id = self.image_ids[idx]\n",
    "        img_path = os.path.join(self.image_dir, f'{image_id}.jpg')\n",
    "        ann_path = os.path.join(self.annotations_dir, f'{image_id}.xml')\n",
    "\n",
    "        img = Image.open(img_path).convert(\"RGB\")\n",
    "        boxes, labels = self.parse_voc_annotation(ann_path)\n",
    "\n",
    "        if self.transform:\n",
    "            img = self.transform(img)\n",
    "\n",
    "        target = {'boxes': boxes, 'labels': labels, 'image_id': torch.tensor([idx])}\n",
    "        return img, target\n",
    "\n",
    "    def parse_voc_annotation(self, ann_path):\n",
    "        tree = ET.parse(ann_path)\n",
    "        root = tree.getroot()\n",
    "\n",
    "        boxes = []\n",
    "        labels = []\n",
    "        for obj in root.findall('object'):\n",
    "            label = obj.find('name').text\n",
    "            bbox = obj.find('bndbox')\n",
    "            xmin = float(bbox.find('xmin').text)\n",
    "            ymin = float(bbox.find('ymin').text)\n",
    "            xmax = float(bbox.find('xmax').text)\n",
    "            ymax = float(bbox.find('ymax').text)\n",
    "            boxes.append([xmin, ymin, xmax, ymax])\n",
    "            labels.append(1)  # Assuming one class; modify if needed\n",
    "\n",
    "        return torch.tensor(boxes, dtype=torch.float32), torch.tensor(labels, dtype=torch.int64)\n",
    "\n",
    "# Define Faster R-CNN model\n",
    "def get_faster_rcnn_model(num_classes):\n",
    "    backbone = vgg16(pretrained=True).features\n",
    "    backbone.out_channels = 512\n",
    "\n",
    "    anchor_generator = AnchorGenerator(\n",
    "        sizes=((32, 64, 128, 256, 512),),\n",
    "        aspect_ratios=((0.5, 1.0, 2.0),)\n",
    "    )\n",
    "\n",
    "    roi_pooler = torchvision.ops.MultiScaleRoIAlign(\n",
    "        featmap_names=['0'],\n",
    "        output_size=7,\n",
    "        sampling_ratio=2\n",
    "    )\n",
    "\n",
    "    model = FasterRCNN(\n",
    "        backbone=backbone,\n",
    "        num_classes=num_classes,\n",
    "        rpn_anchor_generator=anchor_generator,\n",
    "        box_roi_pool=roi_pooler\n",
    "    )\n",
    "\n",
    "    return model\n",
    "\n",
    "# Define the IoU calculation function\n",
    "def calculate_iou(box1, box2):\n",
    "    \"\"\"\n",
    "    Calculate Intersection over Union (IoU) for two bounding boxes.\n",
    "    Each box is expected in the format [xmin, ymin, xmax, ymax].\n",
    "    \"\"\"\n",
    "    # Determine the coordinates of the intersection rectangle\n",
    "    x1 = max(box1[0], box2[0])\n",
    "    y1 = max(box1[1], box2[1])\n",
    "    x2 = min(box1[2], box2[2])\n",
    "    y2 = min(box1[3], box2[3])\n",
    "\n",
    "    # Compute the width and height of the intersection rectangle\n",
    "    intersection_width = max(0, x2 - x1)\n",
    "    intersection_height = max(0, y2 - y1)\n",
    "    intersection = intersection_width * intersection_height\n",
    "\n",
    "    # Compute the area of each box\n",
    "    area1 = (box1[2] - box1[0]) * (box1[3] - box1[1])\n",
    "    area2 = (box2[2] - box2[0]) * (box2[3] - box2[1])\n",
    "\n",
    "    # Compute the union\n",
    "    union = area1 + area2 - intersection\n",
    "    if union == 0:\n",
    "        return 0\n",
    "    return intersection / union\n",
    "\n",
    "# Paths and dataset preparation\n",
    "dataset_path = '/content/drive/MyDrive/pascal-voc-2012-dataset/VOC2012_train_val/VOC2012_train_val'\n",
    "transform = transforms.Compose([\n",
    "    transforms.ToTensor()\n",
    "])\n",
    "\n",
    "train_dataset = PascalVOCDataset(root_dir=dataset_path, transform=transform)\n",
    "\n",
    "\n",
    "total_images = len(train_dataset)\n",
    "subset_size = max(1, int(0.1 * total_images)) \n",
    "random_indices = random.sample(range(total_images), subset_size)\n",
    "subset_dataset = Subset(train_dataset, random_indices)\n",
    "\n",
    "# Create DataLoader\n",
    "subset_loader = DataLoader(subset_dataset, batch_size=4, shuffle=True, collate_fn=lambda x: tuple(zip(*x)))\n",
    "\n",
    "# Initialize model, optimizer, and scheduler\n",
    "device = torch.device('cuda') if torch.cuda.is_available() else torch.device('cpu')\n",
    "num_classes = 2  # number of classes (including background)\n",
    "model = get_faster_rcnn_model(num_classes).to(device)\n",
    "\n",
    "optimizer = torch.optim.SGD(model.parameters(), lr=0.005, momentum=0.9, weight_decay=0.0005)\n",
    "lr_scheduler = torch.optim.lr_scheduler.StepLR(optimizer, step_size=3, gamma=0.1)\n",
    "\n",
    "# Training loop with subset\n",
    "for epoch in range(1):  # Number of epochs\n",
    "    model.train()\n",
    "    epoch_loss = 0\n",
    "\n",
    "    print(f\"Epoch {epoch + 1}/1\")\n",
    "    progress_bar = tqdm(subset_loader, desc=f\"Training Epoch {epoch + 1}\", leave=False)\n",
    "\n",
    "    for images, targets in progress_bar:\n",
    "        images = [img.to(device) for img in images]\n",
    "        targets = [{k: v.to(device) for k, v in t.items()} for t in targets]\n",
    "\n",
    "        optimizer.zero_grad()\n",
    "        loss_dict = model(images, targets)\n",
    "        losses = sum(loss for loss in loss_dict.values())\n",
    "\n",
    "        losses.backward()\n",
    "        optimizer.step()\n",
    "\n",
    "        epoch_loss += losses.item()\n",
    "\n",
    "        # Update progress bar with the current loss\n",
    "        progress_bar.set_postfix(loss=f\"{losses.item():.4f}\")\n",
    "\n",
    "    print(f\"Epoch {epoch + 1}, Total Loss: {epoch_loss:.4f}\")\n",
    "    lr_scheduler.step()\n",
    "\n",
    "print(\"Training of the dataset complete.\")\n",
    "\n",
    "# ---------------------------\n",
    "# IoU Evaluation on the subset\n",
    "# ---------------------------\n",
    "model.eval()\n",
    "total_iou = 0.0\n",
    "iou_count = 0\n",
    "\n",
    "# For evaluation, we use a DataLoader with batch_size=1\n",
    "eval_loader = DataLoader(subset_dataset, batch_size=1, shuffle=False, collate_fn=lambda x: tuple(zip(*x)))\n",
    "\n",
    "with torch.no_grad():\n",
    "    for images, targets in tqdm(eval_loader, desc=\"Evaluating IoU\"):\n",
    "        image = images[0].to(device)\n",
    "        target = targets[0]\n",
    "        # Get ground truth boxes (convert to numpy for easier processing)\n",
    "        gt_boxes = target['boxes'].cpu().numpy()\n",
    "\n",
    "        # Run model inference\n",
    "        predictions = model([image])[0]\n",
    "        pred_boxes = predictions['boxes'].cpu().numpy()\n",
    "\n",
    "        # For each ground truth box, find the best (maximum) IoU with any predicted box.\n",
    "        for gt_box in gt_boxes:\n",
    "            best_iou = 0.0\n",
    "            for pred_box in pred_boxes:\n",
    "                iou = calculate_iou(gt_box, pred_box)\n",
    "                best_iou = max(best_iou, iou)\n",
    "            total_iou += best_iou\n",
    "            iou_count += 1\n",
    "\n",
    "# Compute average IoU over all ground truth boxes\n",
    "average_iou = total_iou / iou_count if iou_count > 0 else 0\n",
    "print(f\"Average IoU over the evaluation subset: {average_iou:.4f}\")\n"
   ]
  },
  {
   "cell_type": "code",
   "execution_count": null,
   "metadata": {
    "colab": {
     "base_uri": "https://localhost:8080/"
    },
    "id": "eGQRYDyfBVAz",
    "outputId": "51408079-f7d1-4d88-b351-027551952246"
   },
   "outputs": [
    {
     "name": "stderr",
     "output_type": "stream",
     "text": [
      "/usr/local/lib/python3.11/dist-packages/torchvision/models/_utils.py:208: UserWarning: The parameter 'pretrained' is deprecated since 0.13 and may be removed in the future, please use 'weights' instead.\n",
      "  warnings.warn(\n",
      "/usr/local/lib/python3.11/dist-packages/torchvision/models/_utils.py:223: UserWarning: Arguments other than a weight enum or `None` for 'weights' are deprecated since 0.13 and may be removed in the future. The current behavior is equivalent to passing `weights=VGG16_Weights.IMAGENET1K_V1`. You can also use `weights=VGG16_Weights.DEFAULT` to get the most up-to-date weights.\n",
      "  warnings.warn(msg)\n"
     ]
    },
    {
     "name": "stdout",
     "output_type": "stream",
     "text": [
      "Epoch 1/2\n"
     ]
    },
    {
     "name": "stderr",
     "output_type": "stream",
     "text": []
    },
    {
     "name": "stdout",
     "output_type": "stream",
     "text": [
      "Epoch 1, Total Loss: 27.1519\n",
      "Epoch 2/2\n"
     ]
    },
    {
     "name": "stderr",
     "output_type": "stream",
     "text": []
    },
    {
     "name": "stdout",
     "output_type": "stream",
     "text": [
      "Epoch 2, Total Loss: 23.9814\n",
      "Training of the dataset complete.\n"
     ]
    },
    {
     "name": "stderr",
     "output_type": "stream",
     "text": [
      "Evaluating IoU: 100%|██████████| 85/85 [15:54<00:00, 11.23s/it]"
     ]
    },
    {
     "name": "stdout",
     "output_type": "stream",
     "text": [
      "Average IoU over the evaluation subset: 0.3740\n"
     ]
    },
    {
     "name": "stderr",
     "output_type": "stream",
     "text": [
      "\n"
     ]
    }
   ],
   "source": [
    "import os\n",
    "import random\n",
    "import torch\n",
    "from torch.utils.data import Dataset, DataLoader, Subset\n",
    "from torchvision import transforms\n",
    "from torchvision.models.detection import FasterRCNN\n",
    "from torchvision.models.detection.rpn import AnchorGenerator\n",
    "from torchvision.models import vgg16\n",
    "import torchvision  # Needed for torchvision.ops.MultiScaleRoIAlign\n",
    "from tqdm import tqdm\n",
    "from PIL import Image\n",
    "import xml.etree.ElementTree as ET\n",
    "\n",
    "# Define PascalVOCDataset\n",
    "class PascalVOCDataset(Dataset):\n",
    "    def __init__(self, root_dir, transform=None):\n",
    "        self.root_dir = root_dir\n",
    "        self.image_dir = os.path.join(root_dir, 'JPEGImages')\n",
    "        self.annotations_dir = os.path.join(root_dir, 'Annotations')\n",
    "        self.image_ids = [f[:-4] for f in os.listdir(self.image_dir) if f.endswith('.jpg')]\n",
    "        self.transform = transform\n",
    "\n",
    "    def __len__(self):\n",
    "        return len(self.image_ids)\n",
    "\n",
    "    def __getitem__(self, idx):\n",
    "        image_id = self.image_ids[idx]\n",
    "        img_path = os.path.join(self.image_dir, f'{image_id}.jpg')\n",
    "        ann_path = os.path.join(self.annotations_dir, f'{image_id}.xml')\n",
    "\n",
    "        img = Image.open(img_path).convert(\"RGB\")\n",
    "        boxes, labels = self.parse_voc_annotation(ann_path)\n",
    "\n",
    "        if self.transform:\n",
    "            img = self.transform(img)\n",
    "\n",
    "        target = {'boxes': boxes, 'labels': labels, 'image_id': torch.tensor([idx])}\n",
    "        return img, target\n",
    "\n",
    "    def parse_voc_annotation(self, ann_path):\n",
    "        tree = ET.parse(ann_path)\n",
    "        root = tree.getroot()\n",
    "\n",
    "        boxes = []\n",
    "        labels = []\n",
    "        for obj in root.findall('object'):\n",
    "            label = obj.find('name').text\n",
    "            bbox = obj.find('bndbox')\n",
    "            xmin = float(bbox.find('xmin').text)\n",
    "            ymin = float(bbox.find('ymin').text)\n",
    "            xmax = float(bbox.find('xmax').text)\n",
    "            ymax = float(bbox.find('ymax').text)\n",
    "            boxes.append([xmin, ymin, xmax, ymax])\n",
    "            labels.append(1)  # Assuming one class; modify if needed\n",
    "\n",
    "        return torch.tensor(boxes, dtype=torch.float32), torch.tensor(labels, dtype=torch.int64)\n",
    "\n",
    "# Define Faster R-CNN model\n",
    "def get_faster_rcnn_model(num_classes):\n",
    "    backbone = vgg16(pretrained=True).features\n",
    "    backbone.out_channels = 512\n",
    "\n",
    "    anchor_generator = AnchorGenerator(\n",
    "        sizes=((32, 64, 128, 256, 512),),\n",
    "        aspect_ratios=((0.5, 1.0, 2.0),)\n",
    "    )\n",
    "\n",
    "    roi_pooler = torchvision.ops.MultiScaleRoIAlign(\n",
    "        featmap_names=['0'],\n",
    "        output_size=7,\n",
    "        sampling_ratio=2\n",
    "    )\n",
    "\n",
    "    model = FasterRCNN(\n",
    "        backbone=backbone,\n",
    "        num_classes=num_classes,\n",
    "        rpn_anchor_generator=anchor_generator,\n",
    "        box_roi_pool=roi_pooler\n",
    "    )\n",
    "\n",
    "    return model\n",
    "\n",
    "# Define the IoU calculation function\n",
    "def calculate_iou(box1, box2):\n",
    "    \"\"\"\n",
    "    Calculate Intersection over Union (IoU) for two bounding boxes.\n",
    "    Each box is expected in the format [xmin, ymin, xmax, ymax].\n",
    "    \"\"\"\n",
    "    # Determine the coordinates of the intersection rectangle\n",
    "    x1 = max(box1[0], box2[0])\n",
    "    y1 = max(box1[1], box2[1])\n",
    "    x2 = min(box1[2], box2[2])\n",
    "    y2 = min(box1[3], box2[3])\n",
    "\n",
    "    # Compute the width and height of the intersection rectangle\n",
    "    intersection_width = max(0, x2 - x1)\n",
    "    intersection_height = max(0, y2 - y1)\n",
    "    intersection = intersection_width * intersection_height\n",
    "\n",
    "    # Compute the area of each box\n",
    "    area1 = (box1[2] - box1[0]) * (box1[3] - box1[1])\n",
    "    area2 = (box2[2] - box2[0]) * (box2[3] - box2[1])\n",
    "\n",
    "    # Compute the union\n",
    "    union = area1 + area2 - intersection\n",
    "    if union == 0:\n",
    "        return 0\n",
    "    return intersection / union\n",
    "\n",
    "# Paths and dataset preparation\n",
    "dataset_path = '/content/drive/MyDrive/pascal-voc-2012-dataset/VOC2012_train_val/VOC2012_train_val'\n",
    "transform = transforms.Compose([\n",
    "    transforms.ToTensor()\n",
    "])\n",
    "\n",
    "train_dataset = PascalVOCDataset(root_dir=dataset_path, transform=transform)\n",
    "\n",
    "\n",
    "total_images = len(train_dataset)\n",
    "subset_size = max(1, int(0.1 * total_images)) \n",
    "random_indices = random.sample(range(total_images), subset_size)\n",
    "subset_dataset = Subset(train_dataset, random_indices)\n",
    "\n",
    "# Create DataLoader\n",
    "subset_loader = DataLoader(subset_dataset, batch_size=4, shuffle=True, collate_fn=lambda x: tuple(zip(*x)))\n",
    "\n",
    "# Initialize model, optimizer, and scheduler\n",
    "device = torch.device('cuda') if torch.cuda.is_available() else torch.device('cpu')\n",
    "num_classes = 2  # number of classes (including background)\n",
    "model = get_faster_rcnn_model(num_classes).to(device)\n",
    "\n",
    "optimizer = torch.optim.SGD(model.parameters(), lr=0.005, momentum=0.9, weight_decay=0.0005)\n",
    "lr_scheduler = torch.optim.lr_scheduler.StepLR(optimizer, step_size=3, gamma=0.1)\n",
    "\n",
    "# Training loop with subset\n",
    "for epoch in range(2):  # Number of epochs\n",
    "    model.train()\n",
    "    epoch_loss = 0\n",
    "\n",
    "    print(f\"Epoch {epoch + 1}/2\")\n",
    "    progress_bar = tqdm(subset_loader, desc=f\"Training Epoch {epoch + 1}\", leave=False)\n",
    "\n",
    "    for images, targets in progress_bar:\n",
    "        images = [img.to(device) for img in images]\n",
    "        targets = [{k: v.to(device) for k, v in t.items()} for t in targets]\n",
    "\n",
    "        optimizer.zero_grad()\n",
    "        loss_dict = model(images, targets)\n",
    "        losses = sum(loss for loss in loss_dict.values())\n",
    "\n",
    "        losses.backward()\n",
    "        optimizer.step()\n",
    "\n",
    "        epoch_loss += losses.item()\n",
    "\n",
    "        # Update progress bar with the current loss\n",
    "        progress_bar.set_postfix(loss=f\"{losses.item():.4f}\")\n",
    "\n",
    "    print(f\"Epoch {epoch + 1}, Total Loss: {epoch_loss:.4f}\")\n",
    "    lr_scheduler.step()\n",
    "\n",
    "print(\"Training of the dataset complete.\")\n",
    "\n",
    "# ---------------------------\n",
    "# IoU Evaluation on the subset\n",
    "# ---------------------------\n",
    "model.eval()\n",
    "total_iou = 0.0\n",
    "iou_count = 0\n",
    "\n",
    "# For evaluation, we use a DataLoader with batch_size=1\n",
    "eval_loader = DataLoader(subset_dataset, batch_size=1, shuffle=False, collate_fn=lambda x: tuple(zip(*x)))\n",
    "\n",
    "with torch.no_grad():\n",
    "    for images, targets in tqdm(eval_loader, desc=\"Evaluating IoU\"):\n",
    "        image = images[0].to(device)\n",
    "        target = targets[0]\n",
    "        # Get ground truth boxes (convert to numpy for easier processing)\n",
    "        gt_boxes = target['boxes'].cpu().numpy()\n",
    "\n",
    "        # Run model inference\n",
    "        predictions = model([image])[0]\n",
    "        pred_boxes = predictions['boxes'].cpu().numpy()\n",
    "\n",
    "        # For each ground truth box, find the best (maximum) IoU with any predicted box.\n",
    "        for gt_box in gt_boxes:\n",
    "            best_iou = 0.0\n",
    "            for pred_box in pred_boxes:\n",
    "                iou = calculate_iou(gt_box, pred_box)\n",
    "                best_iou = max(best_iou, iou)\n",
    "            total_iou += best_iou\n",
    "            iou_count += 1\n",
    "\n",
    "# Compute average IoU over all ground truth boxes\n",
    "average_iou = total_iou / iou_count if iou_count > 0 else 0\n",
    "print(f\"Average IoU over the evaluation subset: {average_iou:.4f}\")\n"
   ]
  },
  {
   "cell_type": "code",
   "execution_count": null,
   "metadata": {
    "colab": {
     "background_save": true,
     "base_uri": "https://localhost:8080/"
    },
    "id": "BgkydyY26IbO",
    "outputId": "5e17a576-2b1e-480d-9cfa-73c17258b23e"
   },
   "outputs": [
    {
     "name": "stdout",
     "output_type": "stream",
     "text": [
      "Epoch 1/3\n"
     ]
    },
    {
     "name": "stderr",
     "output_type": "stream",
     "text": []
    },
    {
     "name": "stdout",
     "output_type": "stream",
     "text": [
      "Epoch 1, Total Loss: 24.4089\n",
      "Epoch 2/3\n"
     ]
    },
    {
     "name": "stderr",
     "output_type": "stream",
     "text": []
    },
    {
     "name": "stdout",
     "output_type": "stream",
     "text": [
      "Epoch 2, Total Loss: 18.3451\n",
      "Epoch 3/3\n"
     ]
    },
    {
     "name": "stderr",
     "output_type": "stream",
     "text": []
    },
    {
     "name": "stdout",
     "output_type": "stream",
     "text": [
      "Epoch 3, Total Loss: 13.0861\n",
      "Training of the dataset complete.\n"
     ]
    },
    {
     "name": "stderr",
     "output_type": "stream",
     "text": [
      "Evaluating IoU: 100%|██████████| 85/85 [16:48<00:00, 11.87s/it]"
     ]
    },
    {
     "name": "stdout",
     "output_type": "stream",
     "text": [
      "Average IoU over the evaluation subset: 0.0394\n"
     ]
    },
    {
     "name": "stderr",
     "output_type": "stream",
     "text": [
      "\n"
     ]
    }
   ],
   "source": [
    "import os\n",
    "import random\n",
    "import torch\n",
    "from torch.utils.data import Dataset, DataLoader, Subset\n",
    "from torchvision import transforms\n",
    "from torchvision.models.detection import FasterRCNN\n",
    "from torchvision.models.detection.rpn import AnchorGenerator\n",
    "from torchvision.models import vgg16\n",
    "import torchvision  # Needed for torchvision.ops.MultiScaleRoIAlign\n",
    "from tqdm import tqdm\n",
    "from PIL import Image\n",
    "import xml.etree.ElementTree as ET\n",
    "\n",
    "# Define PascalVOCDataset\n",
    "class PascalVOCDataset(Dataset):\n",
    "    def __init__(self, root_dir, transform=None):\n",
    "        self.root_dir = root_dir\n",
    "        self.image_dir = os.path.join(root_dir, 'JPEGImages')\n",
    "        self.annotations_dir = os.path.join(root_dir, 'Annotations')\n",
    "        self.image_ids = [f[:-4] for f in os.listdir(self.image_dir) if f.endswith('.jpg')]\n",
    "        self.transform = transform\n",
    "\n",
    "    def __len__(self):\n",
    "        return len(self.image_ids)\n",
    "\n",
    "    def __getitem__(self, idx):\n",
    "        image_id = self.image_ids[idx]\n",
    "        img_path = os.path.join(self.image_dir, f'{image_id}.jpg')\n",
    "        ann_path = os.path.join(self.annotations_dir, f'{image_id}.xml')\n",
    "\n",
    "        img = Image.open(img_path).convert(\"RGB\")\n",
    "        boxes, labels = self.parse_voc_annotation(ann_path)\n",
    "\n",
    "        if self.transform:\n",
    "            img = self.transform(img)\n",
    "\n",
    "        target = {'boxes': boxes, 'labels': labels, 'image_id': torch.tensor([idx])}\n",
    "        return img, target\n",
    "\n",
    "    def parse_voc_annotation(self, ann_path):\n",
    "        tree = ET.parse(ann_path)\n",
    "        root = tree.getroot()\n",
    "\n",
    "        boxes = []\n",
    "        labels = []\n",
    "        for obj in root.findall('object'):\n",
    "            label = obj.find('name').text\n",
    "            bbox = obj.find('bndbox')\n",
    "            xmin = float(bbox.find('xmin').text)\n",
    "            ymin = float(bbox.find('ymin').text)\n",
    "            xmax = float(bbox.find('xmax').text)\n",
    "            ymax = float(bbox.find('ymax').text)\n",
    "            boxes.append([xmin, ymin, xmax, ymax])\n",
    "            labels.append(1)  # Assuming one class; modify if needed\n",
    "\n",
    "        return torch.tensor(boxes, dtype=torch.float32), torch.tensor(labels, dtype=torch.int64)\n",
    "\n",
    "# Define Faster R-CNN model\n",
    "def get_faster_rcnn_model(num_classes):\n",
    "    backbone = vgg16(pretrained=True).features\n",
    "    backbone.out_channels = 512\n",
    "\n",
    "    anchor_generator = AnchorGenerator(\n",
    "        sizes=((32, 64, 128, 256, 512),),\n",
    "        aspect_ratios=((0.5, 1.0, 2.0),)\n",
    "    )\n",
    "\n",
    "    roi_pooler = torchvision.ops.MultiScaleRoIAlign(\n",
    "        featmap_names=['0'],\n",
    "        output_size=7,\n",
    "        sampling_ratio=2\n",
    "    )\n",
    "\n",
    "    model = FasterRCNN(\n",
    "        backbone=backbone,\n",
    "        num_classes=num_classes,\n",
    "        rpn_anchor_generator=anchor_generator,\n",
    "        box_roi_pool=roi_pooler\n",
    "    )\n",
    "\n",
    "    return model\n",
    "\n",
    "# Define the IoU calculation function\n",
    "def calculate_iou(box1, box2):\n",
    "    \"\"\"\n",
    "    Calculate Intersection over Union (IoU) for two bounding boxes.\n",
    "    Each box is expected in the format [xmin, ymin, xmax, ymax].\n",
    "    \"\"\"\n",
    "    # Determine the coordinates of the intersection rectangle\n",
    "    x1 = max(box1[0], box2[0])\n",
    "    y1 = max(box1[1], box2[1])\n",
    "    x2 = min(box1[2], box2[2])\n",
    "    y2 = min(box1[3], box2[3])\n",
    "\n",
    "    # Compute the width and height of the intersection rectangle\n",
    "    intersection_width = max(0, x2 - x1)\n",
    "    intersection_height = max(0, y2 - y1)\n",
    "    intersection = intersection_width * intersection_height\n",
    "\n",
    "    # Compute the area of each box\n",
    "    area1 = (box1[2] - box1[0]) * (box1[3] - box1[1])\n",
    "    area2 = (box2[2] - box2[0]) * (box2[3] - box2[1])\n",
    "\n",
    "    # Compute the union\n",
    "    union = area1 + area2 - intersection\n",
    "    if union == 0:\n",
    "        return 0\n",
    "    return intersection / union\n",
    "\n",
    "# Paths and dataset preparation\n",
    "dataset_path = '/content/drive/MyDrive/pascal-voc-2012-dataset/VOC2012_train_val/VOC2012_train_val'\n",
    "transform = transforms.Compose([\n",
    "    transforms.ToTensor()\n",
    "])\n",
    "\n",
    "train_dataset = PascalVOCDataset(root_dir=dataset_path, transform=transform)\n",
    "\n",
    "\n",
    "total_images = len(train_dataset)\n",
    "subset_size = max(1, int(0.1 * total_images))  \n",
    "random_indices = random.sample(range(total_images), subset_size)\n",
    "subset_dataset = Subset(train_dataset, random_indices)\n",
    "\n",
    "# Create DataLoader\n",
    "subset_loader = DataLoader(subset_dataset, batch_size=4, shuffle=True, collate_fn=lambda x: tuple(zip(*x)))\n",
    "\n",
    "# Initialize model, optimizer, and scheduler\n",
    "device = torch.device('cuda') if torch.cuda.is_available() else torch.device('cpu')\n",
    "num_classes = 2  # number of classes (including background)\n",
    "model = get_faster_rcnn_model(num_classes).to(device)\n",
    "\n",
    "optimizer = torch.optim.SGD(model.parameters(), lr=0.005, momentum=0.9, weight_decay=0.0005)\n",
    "lr_scheduler = torch.optim.lr_scheduler.StepLR(optimizer, step_size=3, gamma=0.1)\n",
    "\n",
    "# Training loop with subset\n",
    "for epoch in range(3):  # Number of epochs\n",
    "    model.train()\n",
    "    epoch_loss = 0\n",
    "\n",
    "    print(f\"Epoch {epoch + 1}/3\")\n",
    "    progress_bar = tqdm(subset_loader, desc=f\"Training Epoch {epoch + 1}\", leave=False)\n",
    "\n",
    "    for images, targets in progress_bar:\n",
    "        images = [img.to(device) for img in images]\n",
    "        targets = [{k: v.to(device) for k, v in t.items()} for t in targets]\n",
    "\n",
    "        optimizer.zero_grad()\n",
    "        loss_dict = model(images, targets)\n",
    "        losses = sum(loss for loss in loss_dict.values())\n",
    "\n",
    "        losses.backward()\n",
    "        optimizer.step()\n",
    "\n",
    "        epoch_loss += losses.item()\n",
    "\n",
    "        # Update progress bar with the current loss\n",
    "        progress_bar.set_postfix(loss=f\"{losses.item():.4f}\")\n",
    "\n",
    "    print(f\"Epoch {epoch + 1}, Total Loss: {epoch_loss:.4f}\")\n",
    "    lr_scheduler.step()\n",
    "\n",
    "print(\"Training of the dataset complete.\")\n",
    "\n",
    "# ---------------------------\n",
    "# IoU Evaluation on the subset\n",
    "# ---------------------------\n",
    "model.eval()\n",
    "total_iou = 0.0\n",
    "iou_count = 0\n",
    "\n",
    "# For evaluation, we use a DataLoader with batch_size=1\n",
    "eval_loader = DataLoader(subset_dataset, batch_size=1, shuffle=False, collate_fn=lambda x: tuple(zip(*x)))\n",
    "\n",
    "with torch.no_grad():\n",
    "    for images, targets in tqdm(eval_loader, desc=\"Evaluating IoU\"):\n",
    "        image = images[0].to(device)\n",
    "        target = targets[0]\n",
    "        # Get ground truth boxes (convert to numpy for easier processing)\n",
    "        gt_boxes = target['boxes'].cpu().numpy()\n",
    "\n",
    "        # Run model inference\n",
    "        predictions = model([image])[0]\n",
    "        pred_boxes = predictions['boxes'].cpu().numpy()\n",
    "\n",
    "        # For each ground truth box, find the best (maximum) IoU with any predicted box.\n",
    "        for gt_box in gt_boxes:\n",
    "            best_iou = 0.0\n",
    "            for pred_box in pred_boxes:\n",
    "                iou = calculate_iou(gt_box, pred_box)\n",
    "                best_iou = max(best_iou, iou)\n",
    "            total_iou += best_iou\n",
    "            iou_count += 1\n",
    "\n",
    "# Compute average IoU over all ground truth boxes\n",
    "average_iou = total_iou / iou_count if iou_count > 0 else 0\n",
    "print(f\"Average IoU over the evaluation subset: {average_iou:.4f}\")\n"
   ]
  },
  {
   "cell_type": "code",
   "execution_count": null,
   "metadata": {
    "colab": {
     "base_uri": "https://localhost:8080/"
    },
    "id": "xuX_k8fuSi8Y",
    "outputId": "24a1392e-a12c-47c2-dfd4-461b93f523f0"
   },
   "outputs": [
    {
     "name": "stdout",
     "output_type": "stream",
     "text": [
      "Epoch 1/4\n"
     ]
    },
    {
     "name": "stderr",
     "output_type": "stream",
     "text": []
    },
    {
     "name": "stdout",
     "output_type": "stream",
     "text": [
      "Epoch 1, Total Loss: 25.4245\n",
      "Epoch 2/4\n"
     ]
    },
    {
     "name": "stderr",
     "output_type": "stream",
     "text": []
    },
    {
     "name": "stdout",
     "output_type": "stream",
     "text": [
      "Epoch 2, Total Loss: 20.2941\n",
      "Epoch 3/4\n"
     ]
    },
    {
     "name": "stderr",
     "output_type": "stream",
     "text": []
    },
    {
     "name": "stdout",
     "output_type": "stream",
     "text": [
      "Epoch 3, Total Loss: 13.9246\n",
      "Epoch 4/4\n"
     ]
    },
    {
     "name": "stderr",
     "output_type": "stream",
     "text": []
    },
    {
     "name": "stdout",
     "output_type": "stream",
     "text": [
      "Epoch 4, Total Loss: 13.8933\n",
      "Training of the dataset complete.\n"
     ]
    },
    {
     "name": "stderr",
     "output_type": "stream",
     "text": [
      "Evaluating IoU: 100%|██████████| 85/85 [17:22<00:00, 12.27s/it]"
     ]
    },
    {
     "name": "stdout",
     "output_type": "stream",
     "text": [
      "Average IoU over the evaluation subset: 0.3811\n"
     ]
    },
    {
     "name": "stderr",
     "output_type": "stream",
     "text": [
      "\n"
     ]
    }
   ],
   "source": [
    "import os\n",
    "import random\n",
    "import torch\n",
    "from torch.utils.data import Dataset, DataLoader, Subset\n",
    "from torchvision import transforms\n",
    "from torchvision.models.detection import FasterRCNN\n",
    "from torchvision.models.detection.rpn import AnchorGenerator\n",
    "from torchvision.models import vgg16\n",
    "import torchvision  # Needed for torchvision.ops.MultiScaleRoIAlign\n",
    "from tqdm import tqdm\n",
    "from PIL import Image\n",
    "import xml.etree.ElementTree as ET\n",
    "\n",
    "# Define PascalVOCDataset\n",
    "class PascalVOCDataset(Dataset):\n",
    "    def __init__(self, root_dir, transform=None):\n",
    "        self.root_dir = root_dir\n",
    "        self.image_dir = os.path.join(root_dir, 'JPEGImages')\n",
    "        self.annotations_dir = os.path.join(root_dir, 'Annotations')\n",
    "        self.image_ids = [f[:-4] for f in os.listdir(self.image_dir) if f.endswith('.jpg')]\n",
    "        self.transform = transform\n",
    "\n",
    "    def __len__(self):\n",
    "        return len(self.image_ids)\n",
    "\n",
    "    def __getitem__(self, idx):\n",
    "        image_id = self.image_ids[idx]\n",
    "        img_path = os.path.join(self.image_dir, f'{image_id}.jpg')\n",
    "        ann_path = os.path.join(self.annotations_dir, f'{image_id}.xml')\n",
    "\n",
    "        img = Image.open(img_path).convert(\"RGB\")\n",
    "        boxes, labels = self.parse_voc_annotation(ann_path)\n",
    "\n",
    "        if self.transform:\n",
    "            img = self.transform(img)\n",
    "\n",
    "        target = {'boxes': boxes, 'labels': labels, 'image_id': torch.tensor([idx])}\n",
    "        return img, target\n",
    "\n",
    "    def parse_voc_annotation(self, ann_path):\n",
    "        tree = ET.parse(ann_path)\n",
    "        root = tree.getroot()\n",
    "\n",
    "        boxes = []\n",
    "        labels = []\n",
    "        for obj in root.findall('object'):\n",
    "            label = obj.find('name').text\n",
    "            bbox = obj.find('bndbox')\n",
    "            xmin = float(bbox.find('xmin').text)\n",
    "            ymin = float(bbox.find('ymin').text)\n",
    "            xmax = float(bbox.find('xmax').text)\n",
    "            ymax = float(bbox.find('ymax').text)\n",
    "            boxes.append([xmin, ymin, xmax, ymax])\n",
    "            labels.append(1)  # Assuming one class; modify if needed\n",
    "\n",
    "        return torch.tensor(boxes, dtype=torch.float32), torch.tensor(labels, dtype=torch.int64)\n",
    "\n",
    "# Define Faster R-CNN model\n",
    "def get_faster_rcnn_model(num_classes):\n",
    "    backbone = vgg16(pretrained=True).features\n",
    "    backbone.out_channels = 512\n",
    "\n",
    "    anchor_generator = AnchorGenerator(\n",
    "        sizes=((32, 64, 128, 256, 512),),\n",
    "        aspect_ratios=((0.5, 1.0, 2.0),)\n",
    "    )\n",
    "\n",
    "    roi_pooler = torchvision.ops.MultiScaleRoIAlign(\n",
    "        featmap_names=['0'],\n",
    "        output_size=7,\n",
    "        sampling_ratio=2\n",
    "    )\n",
    "\n",
    "    model = FasterRCNN(\n",
    "        backbone=backbone,\n",
    "        num_classes=num_classes,\n",
    "        rpn_anchor_generator=anchor_generator,\n",
    "        box_roi_pool=roi_pooler\n",
    "    )\n",
    "\n",
    "    return model\n",
    "\n",
    "# Define the IoU calculation function\n",
    "def calculate_iou(box1, box2):\n",
    "    \"\"\"\n",
    "    Calculate Intersection over Union (IoU) for two bounding boxes.\n",
    "    Each box is expected in the format [xmin, ymin, xmax, ymax].\n",
    "    \"\"\"\n",
    "    # Determine the coordinates of the intersection rectangle\n",
    "    x1 = max(box1[0], box2[0])\n",
    "    y1 = max(box1[1], box2[1])\n",
    "    x2 = min(box1[2], box2[2])\n",
    "    y2 = min(box1[3], box2[3])\n",
    "\n",
    "    # Compute the width and height of the intersection rectangle\n",
    "    intersection_width = max(0, x2 - x1)\n",
    "    intersection_height = max(0, y2 - y1)\n",
    "    intersection = intersection_width * intersection_height\n",
    "\n",
    "    # Compute the area of each box\n",
    "    area1 = (box1[2] - box1[0]) * (box1[3] - box1[1])\n",
    "    area2 = (box2[2] - box2[0]) * (box2[3] - box2[1])\n",
    "\n",
    "    # Compute the union\n",
    "    union = area1 + area2 - intersection\n",
    "    if union == 0:\n",
    "        return 0\n",
    "    return intersection / union\n",
    "\n",
    "# Paths and dataset preparation\n",
    "dataset_path = '/content/drive/MyDrive/pascal-voc-2012-dataset/VOC2012_train_val/VOC2012_train_val'\n",
    "transform = transforms.Compose([\n",
    "    transforms.ToTensor()\n",
    "])\n",
    "\n",
    "train_dataset = PascalVOCDataset(root_dir=dataset_path, transform=transform)\n",
    "\n",
    "\n",
    "total_images = len(train_dataset)\n",
    "subset_size = max(1, int(0.1 * total_images)) \n",
    "random_indices = random.sample(range(total_images), subset_size)\n",
    "subset_dataset = Subset(train_dataset, random_indices)\n",
    "\n",
    "# Create DataLoader\n",
    "subset_loader = DataLoader(subset_dataset, batch_size=4, shuffle=True, collate_fn=lambda x: tuple(zip(*x)))\n",
    "\n",
    "# Initialize model, optimizer, and scheduler\n",
    "device = torch.device('cuda') if torch.cuda.is_available() else torch.device('cpu')\n",
    "num_classes = 2  # number of classes (including background)\n",
    "model = get_faster_rcnn_model(num_classes).to(device)\n",
    "\n",
    "optimizer = torch.optim.SGD(model.parameters(), lr=0.005, momentum=0.9, weight_decay=0.0005)\n",
    "lr_scheduler = torch.optim.lr_scheduler.StepLR(optimizer, step_size=3, gamma=0.1)\n",
    "\n",
    "# Training loop with subset\n",
    "for epoch in range(4):  # Number of epochs\n",
    "    model.train()\n",
    "    epoch_loss = 0\n",
    "\n",
    "    print(f\"Epoch {epoch + 1}/4\")\n",
    "    progress_bar = tqdm(subset_loader, desc=f\"Training Epoch {epoch + 1}\", leave=False)\n",
    "\n",
    "    for images, targets in progress_bar:\n",
    "        images = [img.to(device) for img in images]\n",
    "        targets = [{k: v.to(device) for k, v in t.items()} for t in targets]\n",
    "\n",
    "        optimizer.zero_grad()\n",
    "        loss_dict = model(images, targets)\n",
    "        losses = sum(loss for loss in loss_dict.values())\n",
    "\n",
    "        losses.backward()\n",
    "        optimizer.step()\n",
    "\n",
    "        epoch_loss += losses.item()\n",
    "\n",
    "        # Update progress bar with the current loss\n",
    "        progress_bar.set_postfix(loss=f\"{losses.item():.4f}\")\n",
    "\n",
    "    print(f\"Epoch {epoch + 1}, Total Loss: {epoch_loss:.4f}\")\n",
    "    lr_scheduler.step()\n",
    "\n",
    "print(\"Training of the dataset complete.\")\n",
    "\n",
    "# ---------------------------\n",
    "# IoU Evaluation on the subset\n",
    "# ---------------------------\n",
    "model.eval()\n",
    "total_iou = 0.0\n",
    "iou_count = 0\n",
    "\n",
    "# For evaluation, we use a DataLoader with batch_size=1\n",
    "eval_loader = DataLoader(subset_dataset, batch_size=1, shuffle=False, collate_fn=lambda x: tuple(zip(*x)))\n",
    "\n",
    "with torch.no_grad():\n",
    "    for images, targets in tqdm(eval_loader, desc=\"Evaluating IoU\"):\n",
    "        image = images[0].to(device)\n",
    "        target = targets[0]\n",
    "        # Get ground truth boxes (convert to numpy for easier processing)\n",
    "        gt_boxes = target['boxes'].cpu().numpy()\n",
    "\n",
    "        # Run model inference\n",
    "        predictions = model([image])[0]\n",
    "        pred_boxes = predictions['boxes'].cpu().numpy()\n",
    "\n",
    "        # For each ground truth box, find the best (maximum) IoU with any predicted box.\n",
    "        for gt_box in gt_boxes:\n",
    "            best_iou = 0.0\n",
    "            for pred_box in pred_boxes:\n",
    "                iou = calculate_iou(gt_box, pred_box)\n",
    "                best_iou = max(best_iou, iou)\n",
    "            total_iou += best_iou\n",
    "            iou_count += 1\n",
    "\n",
    "# Compute average IoU over all ground truth boxes\n",
    "average_iou = total_iou / iou_count if iou_count > 0 else 0\n",
    "print(f\"Average IoU over the evaluation subset: {average_iou:.4f}\")\n"
   ]
  },
  {
   "cell_type": "code",
   "execution_count": null,
   "metadata": {
    "colab": {
     "base_uri": "https://localhost:8080/"
    },
    "id": "_zBx27CoODTp",
    "outputId": "a59b4b6f-731f-4f35-ca06-5a0945c80f68"
   },
   "outputs": [
    {
     "name": "stdout",
     "output_type": "stream",
     "text": [
      "Epoch 1/5\n"
     ]
    },
    {
     "name": "stderr",
     "output_type": "stream",
     "text": []
    },
    {
     "name": "stdout",
     "output_type": "stream",
     "text": [
      "Epoch 1, Total Loss: 7.3962\n",
      "Epoch 2/5\n"
     ]
    },
    {
     "name": "stderr",
     "output_type": "stream",
     "text": []
    },
    {
     "name": "stdout",
     "output_type": "stream",
     "text": [
      "Epoch 2, Total Loss: 5.4107\n",
      "Epoch 3/5\n"
     ]
    },
    {
     "name": "stderr",
     "output_type": "stream",
     "text": []
    },
    {
     "name": "stdout",
     "output_type": "stream",
     "text": [
      "Epoch 3, Total Loss: 4.8818\n",
      "Epoch 4/5\n"
     ]
    },
    {
     "name": "stderr",
     "output_type": "stream",
     "text": []
    },
    {
     "name": "stdout",
     "output_type": "stream",
     "text": [
      "Epoch 4, Total Loss: 5.2396\n",
      "Epoch 5/5\n"
     ]
    },
    {
     "name": "stderr",
     "output_type": "stream",
     "text": []
    },
    {
     "name": "stdout",
     "output_type": "stream",
     "text": [
      "Epoch 5, Total Loss: 5.0997\n",
      "Training of the dataset complete.\n"
     ]
    },
    {
     "name": "stderr",
     "output_type": "stream",
     "text": [
      "Evaluating IoU: 100%|██████████| 17/17 [02:09<00:00,  7.61s/it]"
     ]
    },
    {
     "name": "stdout",
     "output_type": "stream",
     "text": [
      "Average IoU over the evaluation subset: 0.0088\n"
     ]
    },
    {
     "name": "stderr",
     "output_type": "stream",
     "text": [
      "\n"
     ]
    }
   ],
   "source": [
    "import os\n",
    "import random\n",
    "import torch\n",
    "from torch.utils.data import Dataset, DataLoader, Subset\n",
    "from torchvision import transforms\n",
    "from torchvision.models.detection import FasterRCNN\n",
    "from torchvision.models.detection.rpn import AnchorGenerator\n",
    "from torchvision.models import vgg16\n",
    "import torchvision  # Needed for torchvision.ops.MultiScaleRoIAlign\n",
    "from tqdm import tqdm\n",
    "from PIL import Image\n",
    "import xml.etree.ElementTree as ET\n",
    "\n",
    "# Define PascalVOCDataset\n",
    "class PascalVOCDataset(Dataset):\n",
    "    def __init__(self, root_dir, transform=None):\n",
    "        self.root_dir = root_dir\n",
    "        self.image_dir = os.path.join(root_dir, 'JPEGImages')\n",
    "        self.annotations_dir = os.path.join(root_dir, 'Annotations')\n",
    "        self.image_ids = [f[:-4] for f in os.listdir(self.image_dir) if f.endswith('.jpg')]\n",
    "        self.transform = transform\n",
    "\n",
    "    def __len__(self):\n",
    "        return len(self.image_ids)\n",
    "\n",
    "    def __getitem__(self, idx):\n",
    "        image_id = self.image_ids[idx]\n",
    "        img_path = os.path.join(self.image_dir, f'{image_id}.jpg')\n",
    "        ann_path = os.path.join(self.annotations_dir, f'{image_id}.xml')\n",
    "\n",
    "        img = Image.open(img_path).convert(\"RGB\")\n",
    "        boxes, labels = self.parse_voc_annotation(ann_path)\n",
    "\n",
    "        if self.transform:\n",
    "            img = self.transform(img)\n",
    "\n",
    "        target = {'boxes': boxes, 'labels': labels, 'image_id': torch.tensor([idx])}\n",
    "        return img, target\n",
    "\n",
    "    def parse_voc_annotation(self, ann_path):\n",
    "        tree = ET.parse(ann_path)\n",
    "        root = tree.getroot()\n",
    "\n",
    "        boxes = []\n",
    "        labels = []\n",
    "        for obj in root.findall('object'):\n",
    "            label = obj.find('name').text\n",
    "            bbox = obj.find('bndbox')\n",
    "            xmin = float(bbox.find('xmin').text)\n",
    "            ymin = float(bbox.find('ymin').text)\n",
    "            xmax = float(bbox.find('xmax').text)\n",
    "            ymax = float(bbox.find('ymax').text)\n",
    "            boxes.append([xmin, ymin, xmax, ymax])\n",
    "            labels.append(1)  # Assuming one class; modify if needed\n",
    "\n",
    "        return torch.tensor(boxes, dtype=torch.float32), torch.tensor(labels, dtype=torch.int64)\n",
    "\n",
    "# Define Faster R-CNN model\n",
    "def get_faster_rcnn_model(num_classes):\n",
    "    backbone = vgg16(pretrained=True).features\n",
    "    backbone.out_channels = 512\n",
    "\n",
    "    anchor_generator = AnchorGenerator(\n",
    "        sizes=((32, 64, 128, 256, 512),),\n",
    "        aspect_ratios=((0.5, 1.0, 2.0),)\n",
    "    )\n",
    "\n",
    "    roi_pooler = torchvision.ops.MultiScaleRoIAlign(\n",
    "        featmap_names=['0'],\n",
    "        output_size=7,\n",
    "        sampling_ratio=2\n",
    "    )\n",
    "\n",
    "    model = FasterRCNN(\n",
    "        backbone=backbone,\n",
    "        num_classes=num_classes,\n",
    "        rpn_anchor_generator=anchor_generator,\n",
    "        box_roi_pool=roi_pooler\n",
    "    )\n",
    "\n",
    "    return model\n",
    "\n",
    "# Define the IoU calculation function\n",
    "def calculate_iou(box1, box2):\n",
    "    \"\"\"\n",
    "    Calculate Intersection over Union (IoU) for two bounding boxes.\n",
    "    Each box is expected in the format [xmin, ymin, xmax, ymax].\n",
    "    \"\"\"\n",
    "    # Determine the coordinates of the intersection rectangle\n",
    "    x1 = max(box1[0], box2[0])\n",
    "    y1 = max(box1[1], box2[1])\n",
    "    x2 = min(box1[2], box2[2])\n",
    "    y2 = min(box1[3], box2[3])\n",
    "\n",
    "    # Compute the width and height of the intersection rectangle\n",
    "    intersection_width = max(0, x2 - x1)\n",
    "    intersection_height = max(0, y2 - y1)\n",
    "    intersection = intersection_width * intersection_height\n",
    "\n",
    "    # Compute the area of each box\n",
    "    area1 = (box1[2] - box1[0]) * (box1[3] - box1[1])\n",
    "    area2 = (box2[2] - box2[0]) * (box2[3] - box2[1])\n",
    "\n",
    "    # Compute the union\n",
    "    union = area1 + area2 - intersection\n",
    "    if union == 0:\n",
    "        return 0\n",
    "    return intersection / union\n",
    "\n",
    "# Paths and dataset preparation\n",
    "dataset_path = '/content/drive/MyDrive/pascal-voc-2012-dataset/VOC2012_train_val/VOC2012_train_val'\n",
    "transform = transforms.Compose([\n",
    "    transforms.ToTensor()\n",
    "])\n",
    "\n",
    "train_dataset = PascalVOCDataset(root_dir=dataset_path, transform=transform)\n",
    "\n",
    "\n",
    "total_images = len(train_dataset)\n",
    "subset_size = max(1, int(0.1 * total_images))  \n",
    "random_indices = random.sample(range(total_images), subset_size)\n",
    "subset_dataset = Subset(train_dataset, random_indices)\n",
    "\n",
    "# Create DataLoader\n",
    "subset_loader = DataLoader(subset_dataset, batch_size=4, shuffle=True, collate_fn=lambda x: tuple(zip(*x)))\n",
    "\n",
    "# Initialize model, optimizer, and scheduler\n",
    "device = torch.device('cuda') if torch.cuda.is_available() else torch.device('cpu')\n",
    "num_classes = 2  # number of classes (including background)\n",
    "model = get_faster_rcnn_model(num_classes).to(device)\n",
    "\n",
    "optimizer = torch.optim.SGD(model.parameters(), lr=0.005, momentum=0.9, weight_decay=0.0005)\n",
    "lr_scheduler = torch.optim.lr_scheduler.StepLR(optimizer, step_size=3, gamma=0.1)\n",
    "\n",
    "# Training loop with subset\n",
    "for epoch in range(5):  # Number of epochs\n",
    "    model.train()\n",
    "    epoch_loss = 0\n",
    "\n",
    "    print(f\"Epoch {epoch + 1}/5\")\n",
    "    progress_bar = tqdm(subset_loader, desc=f\"Training Epoch {epoch + 1}\", leave=False)\n",
    "\n",
    "    for images, targets in progress_bar:\n",
    "        images = [img.to(device) for img in images]\n",
    "        targets = [{k: v.to(device) for k, v in t.items()} for t in targets]\n",
    "\n",
    "        optimizer.zero_grad()\n",
    "        loss_dict = model(images, targets)\n",
    "        losses = sum(loss for loss in loss_dict.values())\n",
    "\n",
    "        losses.backward()\n",
    "        optimizer.step()\n",
    "\n",
    "        epoch_loss += losses.item()\n",
    "\n",
    "        # Update progress bar with the current loss\n",
    "        progress_bar.set_postfix(loss=f\"{losses.item():.4f}\")\n",
    "\n",
    "    print(f\"Epoch {epoch + 1}, Total Loss: {epoch_loss:.4f}\")\n",
    "    lr_scheduler.step()\n",
    "\n",
    "print(\"Training of the dataset complete.\")\n",
    "\n",
    "# ---------------------------\n",
    "# IoU Evaluation on the subset\n",
    "# ---------------------------\n",
    "model.eval()\n",
    "total_iou = 0.0\n",
    "iou_count = 0\n",
    "\n",
    "# For evaluation, we use a DataLoader with batch_size=1\n",
    "eval_loader = DataLoader(subset_dataset, batch_size=1, shuffle=False, collate_fn=lambda x: tuple(zip(*x)))\n",
    "\n",
    "with torch.no_grad():\n",
    "    for images, targets in tqdm(eval_loader, desc=\"Evaluating IoU\"):\n",
    "        image = images[0].to(device)\n",
    "        target = targets[0]\n",
    "        # Get ground truth boxes (convert to numpy for easier processing)\n",
    "        gt_boxes = target['boxes'].cpu().numpy()\n",
    "\n",
    "        # Run model inference\n",
    "        predictions = model([image])[0]\n",
    "        pred_boxes = predictions['boxes'].cpu().numpy()\n",
    "\n",
    "        # For each ground truth box, find the best (maximum) IoU with any predicted box.\n",
    "        for gt_box in gt_boxes:\n",
    "            best_iou = 0.0\n",
    "            for pred_box in pred_boxes:\n",
    "                iou = calculate_iou(gt_box, pred_box)\n",
    "                best_iou = max(best_iou, iou)\n",
    "            total_iou += best_iou\n",
    "            iou_count += 1\n",
    "\n",
    "# Compute average IoU over all ground truth boxes\n",
    "average_iou = total_iou / iou_count if iou_count > 0 else 0\n",
    "print(f\"Average IoU over the evaluation subset: {average_iou:.4f}\")\n"
   ]
  },
  {
   "cell_type": "code",
   "execution_count": null,
   "metadata": {
    "colab": {
     "base_uri": "https://localhost:8080/",
     "height": 487
    },
    "id": "nOHXdu4xnXpE",
    "outputId": "1ae256ce-4a5c-4793-9030-18d7cb3238bc"
   },
   "outputs": [
    {
     "data": {
      "image/png": "[encoded data removed]",
      "text/plain": [
       "<Figure size 800x500 with 1 Axes>"
      ]
     },
     "metadata": {},
     "output_type": "display_data"
    }
   ],
   "source": [
    "import matplotlib.pyplot as plt\n",
    "\n",
    "# Manually enter the loss values from your output\n",
    "losses_per_epoch = [7.3962, 5.4107, 4.8818, 5.2396, 5.0997]\n",
    "\n",
    "# Plot Training Loss\n",
    "plt.figure(figsize=(8, 5))\n",
    "plt.plot(range(1, 6), losses_per_epoch, marker='o', linestyle='-', color='b', label=\"Training Loss\")\n",
    "plt.xlabel(\"Epochs\")\n",
    "plt.ylabel(\"Total Loss\")\n",
    "plt.title(\"Training Loss over Epochs\")\n",
    "plt.legend()\n",
    "plt.grid(True)\n",
    "plt.show()\n"
   ]
  },
  {
   "cell_type": "code",
   "execution_count": null,
   "metadata": {
    "colab": {
     "base_uri": "https://localhost:8080/"
    },
    "id": "F0gL468w1ldJ",
    "outputId": "97bccd3e-babe-4f47-ef3a-3bfd0d19feee"
   },
   "outputs": [
    {
     "name": "stdout",
     "output_type": "stream",
     "text": [
      "Epoch 1/6\n"
     ]
    },
    {
     "name": "stderr",
     "output_type": "stream",
     "text": []
    },
    {
     "name": "stdout",
     "output_type": "stream",
     "text": [
      "Epoch 1, Total Loss: 7.1785\n",
      "Epoch 2/6\n"
     ]
    },
    {
     "name": "stderr",
     "output_type": "stream",
     "text": []
    },
    {
     "name": "stdout",
     "output_type": "stream",
     "text": [
      "Epoch 2, Total Loss: 5.7012\n",
      "Epoch 3/6\n"
     ]
    },
    {
     "name": "stderr",
     "output_type": "stream",
     "text": []
    },
    {
     "name": "stdout",
     "output_type": "stream",
     "text": [
      "Epoch 3, Total Loss: 5.5576\n",
      "Epoch 4/6\n"
     ]
    },
    {
     "name": "stderr",
     "output_type": "stream",
     "text": []
    },
    {
     "name": "stdout",
     "output_type": "stream",
     "text": [
      "Epoch 4, Total Loss: 5.2557\n",
      "Epoch 5/6\n"
     ]
    },
    {
     "name": "stderr",
     "output_type": "stream",
     "text": []
    },
    {
     "name": "stdout",
     "output_type": "stream",
     "text": [
      "Epoch 5, Total Loss: 5.7211\n",
      "Epoch 6/6\n"
     ]
    },
    {
     "name": "stderr",
     "output_type": "stream",
     "text": []
    },
    {
     "name": "stdout",
     "output_type": "stream",
     "text": [
      "Epoch 6, Total Loss: 5.2395\n",
      "Training of the dataset complete.\n"
     ]
    },
    {
     "name": "stderr",
     "output_type": "stream",
     "text": [
      "Evaluating IoU: 100%|██████████| 17/17 [02:22<00:00,  8.38s/it]"
     ]
    },
    {
     "name": "stdout",
     "output_type": "stream",
     "text": [
      "Average IoU over the evaluation subset: 0.0045\n"
     ]
    },
    {
     "name": "stderr",
     "output_type": "stream",
     "text": [
      "\n"
     ]
    }
   ],
   "source": [
    "import os\n",
    "import random\n",
    "import torch\n",
    "from torch.utils.data import Dataset, DataLoader, Subset\n",
    "from torchvision import transforms\n",
    "from torchvision.models.detection import FasterRCNN\n",
    "from torchvision.models.detection.rpn import AnchorGenerator\n",
    "from torchvision.models import vgg16\n",
    "import torchvision  # Needed for torchvision.ops.MultiScaleRoIAlign\n",
    "from tqdm import tqdm\n",
    "from PIL import Image\n",
    "import xml.etree.ElementTree as ET\n",
    "\n",
    "# Define PascalVOCDataset\n",
    "class PascalVOCDataset(Dataset):\n",
    "    def __init__(self, root_dir, transform=None):\n",
    "        self.root_dir = root_dir\n",
    "        self.image_dir = os.path.join(root_dir, 'JPEGImages')\n",
    "        self.annotations_dir = os.path.join(root_dir, 'Annotations')\n",
    "        self.image_ids = [f[:-4] for f in os.listdir(self.image_dir) if f.endswith('.jpg')]\n",
    "        self.transform = transform\n",
    "\n",
    "    def __len__(self):\n",
    "        return len(self.image_ids)\n",
    "\n",
    "    def __getitem__(self, idx):\n",
    "        image_id = self.image_ids[idx]\n",
    "        img_path = os.path.join(self.image_dir, f'{image_id}.jpg')\n",
    "        ann_path = os.path.join(self.annotations_dir, f'{image_id}.xml')\n",
    "\n",
    "        img = Image.open(img_path).convert(\"RGB\")\n",
    "        boxes, labels = self.parse_voc_annotation(ann_path)\n",
    "\n",
    "        if self.transform:\n",
    "            img = self.transform(img)\n",
    "\n",
    "        target = {'boxes': boxes, 'labels': labels, 'image_id': torch.tensor([idx])}\n",
    "        return img, target\n",
    "\n",
    "    def parse_voc_annotation(self, ann_path):\n",
    "        tree = ET.parse(ann_path)\n",
    "        root = tree.getroot()\n",
    "\n",
    "        boxes = []\n",
    "        labels = []\n",
    "        for obj in root.findall('object'):\n",
    "            label = obj.find('name').text\n",
    "            bbox = obj.find('bndbox')\n",
    "            xmin = float(bbox.find('xmin').text)\n",
    "            ymin = float(bbox.find('ymin').text)\n",
    "            xmax = float(bbox.find('xmax').text)\n",
    "            ymax = float(bbox.find('ymax').text)\n",
    "            boxes.append([xmin, ymin, xmax, ymax])\n",
    "            labels.append(1)  # Assuming one class; modify if needed\n",
    "\n",
    "        return torch.tensor(boxes, dtype=torch.float32), torch.tensor(labels, dtype=torch.int64)\n",
    "\n",
    "# Define Faster R-CNN model\n",
    "def get_faster_rcnn_model(num_classes):\n",
    "    backbone = vgg16(pretrained=True).features\n",
    "    backbone.out_channels = 512\n",
    "\n",
    "    anchor_generator = AnchorGenerator(\n",
    "        sizes=((32, 64, 128, 256, 512),),\n",
    "        aspect_ratios=((0.5, 1.0, 2.0),)\n",
    "    )\n",
    "\n",
    "    roi_pooler = torchvision.ops.MultiScaleRoIAlign(\n",
    "        featmap_names=['0'],\n",
    "        output_size=7,\n",
    "        sampling_ratio=2\n",
    "    )\n",
    "\n",
    "    model = FasterRCNN(\n",
    "        backbone=backbone,\n",
    "        num_classes=num_classes,\n",
    "        rpn_anchor_generator=anchor_generator,\n",
    "        box_roi_pool=roi_pooler\n",
    "    )\n",
    "\n",
    "    return model\n",
    "\n",
    "# Define the IoU calculation function\n",
    "def calculate_iou(box1, box2):\n",
    "    \"\"\"\n",
    "    Calculate Intersection over Union (IoU) for two bounding boxes.\n",
    "    Each box is expected in the format [xmin, ymin, xmax, ymax].\n",
    "    \"\"\"\n",
    "    # Determine the coordinates of the intersection rectangle\n",
    "    x1 = max(box1[0], box2[0])\n",
    "    y1 = max(box1[1], box2[1])\n",
    "    x2 = min(box1[2], box2[2])\n",
    "    y2 = min(box1[3], box2[3])\n",
    "\n",
    "    # Compute the width and height of the intersection rectangle\n",
    "    intersection_width = max(0, x2 - x1)\n",
    "    intersection_height = max(0, y2 - y1)\n",
    "    intersection = intersection_width * intersection_height\n",
    "\n",
    "    # Compute the area of each box\n",
    "    area1 = (box1[2] - box1[0]) * (box1[3] - box1[1])\n",
    "    area2 = (box2[2] - box2[0]) * (box2[3] - box2[1])\n",
    "\n",
    "    # Compute the union\n",
    "    union = area1 + area2 - intersection\n",
    "    if union == 0:\n",
    "        return 0\n",
    "    return intersection / union\n",
    "\n",
    "# Paths and dataset preparation\n",
    "dataset_path = '/content/drive/MyDrive/pascal-voc-2012-dataset/VOC2012_train_val/VOC2012_train_val'\n",
    "transform = transforms.Compose([\n",
    "    transforms.ToTensor()\n",
    "])\n",
    "\n",
    "train_dataset = PascalVOCDataset(root_dir=dataset_path, transform=transform)\n",
    "\n",
    "\n",
    "total_images = len(train_dataset)\n",
    "subset_size = max(1, int(0.1* total_images)) \n",
    "random_indices = random.sample(range(total_images), subset_size)\n",
    "subset_dataset = Subset(train_dataset, random_indices)\n",
    "\n",
    "# Create DataLoader\n",
    "subset_loader = DataLoader(subset_dataset, batch_size=4, shuffle=True, collate_fn=lambda x: tuple(zip(*x)))\n",
    "\n",
    "# Initialize model, optimizer, and scheduler\n",
    "device = torch.device('cuda') if torch.cuda.is_available() else torch.device('cpu')\n",
    "num_classes = 2  # number of classes (including background)\n",
    "model = get_faster_rcnn_model(num_classes).to(device)\n",
    "\n",
    "optimizer = torch.optim.SGD(model.parameters(), lr=0.005, momentum=0.9, weight_decay=0.0005)\n",
    "lr_scheduler = torch.optim.lr_scheduler.StepLR(optimizer, step_size=3, gamma=0.1)\n",
    "\n",
    "# Training loop with subset\n",
    "for epoch in range(6):  # Number of epochs\n",
    "    model.train()\n",
    "    epoch_loss = 0\n",
    "\n",
    "    print(f\"Epoch {epoch + 1}/6\")\n",
    "    progress_bar = tqdm(subset_loader, desc=f\"Training Epoch {epoch + 1}\", leave=False)\n",
    "\n",
    "    for images, targets in progress_bar:\n",
    "        images = [img.to(device) for img in images]\n",
    "        targets = [{k: v.to(device) for k, v in t.items()} for t in targets]\n",
    "\n",
    "        optimizer.zero_grad()\n",
    "        loss_dict = model(images, targets)\n",
    "        losses = sum(loss for loss in loss_dict.values())\n",
    "\n",
    "        losses.backward()\n",
    "        optimizer.step()\n",
    "\n",
    "        epoch_loss += losses.item()\n",
    "\n",
    "        # Update progress bar with the current loss\n",
    "        progress_bar.set_postfix(loss=f\"{losses.item():.4f}\")\n",
    "\n",
    "    print(f\"Epoch {epoch + 1}, Total Loss: {epoch_loss:.4f}\")\n",
    "    lr_scheduler.step()\n",
    "\n",
    "print(\"Training of the dataset complete.\")\n",
    "\n",
    "# ---------------------------\n",
    "# IoU Evaluation on the subset\n",
    "# ---------------------------\n",
    "model.eval()\n",
    "total_iou = 0.0\n",
    "iou_count = 0\n",
    "\n",
    "# For evaluation, we use a DataLoader with batch_size=1\n",
    "eval_loader = DataLoader(subset_dataset, batch_size=1, shuffle=False, collate_fn=lambda x: tuple(zip(*x)))\n",
    "\n",
    "with torch.no_grad():\n",
    "    for images, targets in tqdm(eval_loader, desc=\"Evaluating IoU\"):\n",
    "        image = images[0].to(device)\n",
    "        target = targets[0]\n",
    "        # Get ground truth boxes (convert to numpy for easier processing)\n",
    "        gt_boxes = target['boxes'].cpu().numpy()\n",
    "\n",
    "        # Run model inference\n",
    "        predictions = model([image])[0]\n",
    "        pred_boxes = predictions['boxes'].cpu().numpy()\n",
    "\n",
    "        # For each ground truth box, find the best (maximum) IoU with any predicted box.\n",
    "        for gt_box in gt_boxes:\n",
    "            best_iou = 0.0\n",
    "            for pred_box in pred_boxes:\n",
    "                iou = calculate_iou(gt_box, pred_box)\n",
    "                best_iou = max(best_iou, iou)\n",
    "            total_iou += best_iou\n",
    "            iou_count += 1\n",
    "\n",
    "# Compute average IoU over all ground truth boxes\n",
    "average_iou = total_iou / iou_count if iou_count > 0 else 0\n",
    "print(f\"Average IoU over the evaluation subset: {average_iou:.4f}\")\n"
   ]
  },
  {
   "cell_type": "code",
   "execution_count": null,
   "metadata": {
    "colab": {
     "base_uri": "https://localhost:8080/",
     "height": 487
    },
    "id": "kdussOmbnzPU",
    "outputId": "c39c799c-b886-4a1b-ff68-575ac7172773"
   },
   "outputs": [
    {
     "data": {
      "image/png": "[encoded data removed]",
      "text/plain": [
       "<Figure size 800x500 with 1 Axes>"
      ]
     },
     "metadata": {},
     "output_type": "display_data"
    }
   ],
   "source": [
    "import matplotlib.pyplot as plt\n",
    "\n",
    "# Manually enter the new loss values\n",
    "losses_per_epoch = [7.1785, 5.7012, 5.5576, 5.2557, 5.7211, 5.2395]\n",
    "\n",
    "# Plot Training Loss\n",
    "plt.figure(figsize=(8, 5))\n",
    "plt.plot(range(1, 7), losses_per_epoch, marker='o', linestyle='-', color='b', label=\"Training Loss\")\n",
    "plt.xlabel(\"Epochs\")\n",
    "plt.ylabel(\"Total Loss\")\n",
    "plt.title(\"Training Loss over Epochs\")\n",
    "plt.legend()\n",
    "plt.grid(True)\n",
    "plt.show()\n"
   ]
  },
  {
   "cell_type": "code",
   "execution_count": null,
   "metadata": {
    "colab": {
     "base_uri": "https://localhost:8080/"
    },
    "id": "dqJpAmOWXBlW",
    "outputId": "3143802c-570f-4360-b94a-0fc3f1a8adfe"
   },
   "outputs": [
    {
     "name": "stdout",
     "output_type": "stream",
     "text": [
      "Epoch 1/7\n"
     ]
    },
    {
     "name": "stderr",
     "output_type": "stream",
     "text": []
    },
    {
     "name": "stdout",
     "output_type": "stream",
     "text": [
      "Epoch 1, Total Loss: 7.1457\n",
      "Epoch 2/7\n"
     ]
    },
    {
     "name": "stderr",
     "output_type": "stream",
     "text": []
    },
    {
     "name": "stdout",
     "output_type": "stream",
     "text": [
      "Epoch 2, Total Loss: 5.5141\n",
      "Epoch 3/7\n"
     ]
    },
    {
     "name": "stderr",
     "output_type": "stream",
     "text": []
    },
    {
     "name": "stdout",
     "output_type": "stream",
     "text": [
      "Epoch 3, Total Loss: 4.3965\n",
      "Epoch 4/7\n"
     ]
    },
    {
     "name": "stderr",
     "output_type": "stream",
     "text": []
    },
    {
     "name": "stdout",
     "output_type": "stream",
     "text": [
      "Epoch 4, Total Loss: 4.4266\n",
      "Epoch 5/7\n"
     ]
    },
    {
     "name": "stderr",
     "output_type": "stream",
     "text": []
    },
    {
     "name": "stdout",
     "output_type": "stream",
     "text": [
      "Epoch 5, Total Loss: 4.9972\n",
      "Epoch 6/7\n"
     ]
    },
    {
     "name": "stderr",
     "output_type": "stream",
     "text": []
    },
    {
     "name": "stdout",
     "output_type": "stream",
     "text": [
      "Epoch 6, Total Loss: 4.7015\n",
      "Epoch 7/7\n"
     ]
    },
    {
     "name": "stderr",
     "output_type": "stream",
     "text": []
    },
    {
     "name": "stdout",
     "output_type": "stream",
     "text": [
      "Epoch 7, Total Loss: 5.0698\n",
      "Training of the dataset complete.\n"
     ]
    },
    {
     "name": "stderr",
     "output_type": "stream",
     "text": [
      "Evaluating IoU: 100%|██████████| 17/17 [02:23<00:00,  8.44s/it]"
     ]
    },
    {
     "name": "stdout",
     "output_type": "stream",
     "text": [
      "Average IoU over the evaluation subset: 0.0008\n"
     ]
    },
    {
     "name": "stderr",
     "output_type": "stream",
     "text": [
      "\n"
     ]
    }
   ],
   "source": [
    "import os\n",
    "import random\n",
    "import torch\n",
    "from torch.utils.data import Dataset, DataLoader, Subset\n",
    "from torchvision import transforms\n",
    "from torchvision.models.detection import FasterRCNN\n",
    "from torchvision.models.detection.rpn import AnchorGenerator\n",
    "from torchvision.models import vgg16\n",
    "import torchvision  # Needed for torchvision.ops.MultiScaleRoIAlign\n",
    "from tqdm import tqdm\n",
    "from PIL import Image\n",
    "import xml.etree.ElementTree as ET\n",
    "\n",
    "# Define PascalVOCDataset\n",
    "class PascalVOCDataset(Dataset):\n",
    "    def __init__(self, root_dir, transform=None):\n",
    "        self.root_dir = root_dir\n",
    "        self.image_dir = os.path.join(root_dir, 'JPEGImages')\n",
    "        self.annotations_dir = os.path.join(root_dir, 'Annotations')\n",
    "        self.image_ids = [f[:-4] for f in os.listdir(self.image_dir) if f.endswith('.jpg')]\n",
    "        self.transform = transform\n",
    "\n",
    "    def __len__(self):\n",
    "        return len(self.image_ids)\n",
    "\n",
    "    def __getitem__(self, idx):\n",
    "        image_id = self.image_ids[idx]\n",
    "        img_path = os.path.join(self.image_dir, f'{image_id}.jpg')\n",
    "        ann_path = os.path.join(self.annotations_dir, f'{image_id}.xml')\n",
    "\n",
    "        img = Image.open(img_path).convert(\"RGB\")\n",
    "        boxes, labels = self.parse_voc_annotation(ann_path)\n",
    "\n",
    "        if self.transform:\n",
    "            img = self.transform(img)\n",
    "\n",
    "        target = {'boxes': boxes, 'labels': labels, 'image_id': torch.tensor([idx])}\n",
    "        return img, target\n",
    "\n",
    "    def parse_voc_annotation(self, ann_path):\n",
    "        tree = ET.parse(ann_path)\n",
    "        root = tree.getroot()\n",
    "\n",
    "        boxes = []\n",
    "        labels = []\n",
    "        for obj in root.findall('object'):\n",
    "            label = obj.find('name').text\n",
    "            bbox = obj.find('bndbox')\n",
    "            xmin = float(bbox.find('xmin').text)\n",
    "            ymin = float(bbox.find('ymin').text)\n",
    "            xmax = float(bbox.find('xmax').text)\n",
    "            ymax = float(bbox.find('ymax').text)\n",
    "            boxes.append([xmin, ymin, xmax, ymax])\n",
    "            labels.append(1)  # Assuming one class; modify if needed\n",
    "\n",
    "        return torch.tensor(boxes, dtype=torch.float32), torch.tensor(labels, dtype=torch.int64)\n",
    "\n",
    "# Define Faster R-CNN model\n",
    "def get_faster_rcnn_model(num_classes):\n",
    "    backbone = vgg16(pretrained=True).features\n",
    "    backbone.out_channels = 512\n",
    "\n",
    "    anchor_generator = AnchorGenerator(\n",
    "        sizes=((32, 64, 128, 256, 512),),\n",
    "        aspect_ratios=((0.5, 1.0, 2.0),)\n",
    "    )\n",
    "\n",
    "    roi_pooler = torchvision.ops.MultiScaleRoIAlign(\n",
    "        featmap_names=['0'],\n",
    "        output_size=7,\n",
    "        sampling_ratio=2\n",
    "    )\n",
    "\n",
    "    model = FasterRCNN(\n",
    "        backbone=backbone,\n",
    "        num_classes=num_classes,\n",
    "        rpn_anchor_generator=anchor_generator,\n",
    "        box_roi_pool=roi_pooler\n",
    "    )\n",
    "\n",
    "    return model\n",
    "\n",
    "# Define the IoU calculation function\n",
    "def calculate_iou(box1, box2):\n",
    "    \"\"\"\n",
    "    Calculate Intersection over Union (IoU) for two bounding boxes.\n",
    "    Each box is expected in the format [xmin, ymin, xmax, ymax].\n",
    "    \"\"\"\n",
    "    # Determine the coordinates of the intersection rectangle\n",
    "    x1 = max(box1[0], box2[0])\n",
    "    y1 = max(box1[1], box2[1])\n",
    "    x2 = min(box1[2], box2[2])\n",
    "    y2 = min(box1[3], box2[3])\n",
    "\n",
    "    # Compute the width and height of the intersection rectangle\n",
    "    intersection_width = max(0, x2 - x1)\n",
    "    intersection_height = max(0, y2 - y1)\n",
    "    intersection = intersection_width * intersection_height\n",
    "\n",
    "    # Compute the area of each box\n",
    "    area1 = (box1[2] - box1[0]) * (box1[3] - box1[1])\n",
    "    area2 = (box2[2] - box2[0]) * (box2[3] - box2[1])\n",
    "\n",
    "    # Compute the union\n",
    "    union = area1 + area2 - intersection\n",
    "    if union == 0:\n",
    "        return 0\n",
    "    return intersection / union\n",
    "\n",
    "# Paths and dataset preparation\n",
    "dataset_path = '/content/drive/MyDrive/pascal-voc-2012-dataset/VOC2012_train_val/VOC2012_train_val'\n",
    "transform = transforms.Compose([\n",
    "    transforms.ToTensor()\n",
    "])\n",
    "\n",
    "train_dataset = PascalVOCDataset(root_dir=dataset_path, transform=transform)\n",
    "\n",
    "total_images = len(train_dataset)\n",
    "subset_size = max(1, int(0.1 * total_images)) \n",
    "random_indices = random.sample(range(total_images), subset_size)\n",
    "subset_dataset = Subset(train_dataset, random_indices)\n",
    "\n",
    "# Create DataLoader\n",
    "subset_loader = DataLoader(subset_dataset, batch_size=4, shuffle=True, collate_fn=lambda x: tuple(zip(*x)))\n",
    "\n",
    "# Initialize model, optimizer, and scheduler\n",
    "device = torch.device('cuda') if torch.cuda.is_available() else torch.device('cpu')\n",
    "num_classes = 2  # number of classes (including background)\n",
    "model = get_faster_rcnn_model(num_classes).to(device)\n",
    "\n",
    "optimizer = torch.optim.SGD(model.parameters(), lr=0.005, momentum=0.9, weight_decay=0.0005)\n",
    "lr_scheduler = torch.optim.lr_scheduler.StepLR(optimizer, step_size=3, gamma=0.1)\n",
    "\n",
    "# Training loop with subset\n",
    "for epoch in range(7):  # Number of epochs\n",
    "    model.train()\n",
    "    epoch_loss = 0\n",
    "\n",
    "    print(f\"Epoch {epoch + 1}/7\")\n",
    "    progress_bar = tqdm(subset_loader, desc=f\"Training Epoch {epoch + 1}\", leave=False)\n",
    "\n",
    "    for images, targets in progress_bar:\n",
    "        images = [img.to(device) for img in images]\n",
    "        targets = [{k: v.to(device) for k, v in t.items()} for t in targets]\n",
    "\n",
    "        optimizer.zero_grad()\n",
    "        loss_dict = model(images, targets)\n",
    "        losses = sum(loss for loss in loss_dict.values())\n",
    "\n",
    "        losses.backward()\n",
    "        optimizer.step()\n",
    "\n",
    "        epoch_loss += losses.item()\n",
    "\n",
    "        # Update progress bar with the current loss\n",
    "        progress_bar.set_postfix(loss=f\"{losses.item():.4f}\")\n",
    "\n",
    "    print(f\"Epoch {epoch + 1}, Total Loss: {epoch_loss:.4f}\")\n",
    "    lr_scheduler.step()\n",
    "\n",
    "print(\"Training of the dataset complete.\")\n",
    "\n",
    "# ---------------------------\n",
    "# IoU Evaluation on the subset\n",
    "# ---------------------------\n",
    "model.eval()\n",
    "total_iou = 0.0\n",
    "iou_count = 0\n",
    "\n",
    "# For evaluation, we use a DataLoader with batch_size=1\n",
    "eval_loader = DataLoader(subset_dataset, batch_size=1, shuffle=False, collate_fn=lambda x: tuple(zip(*x)))\n",
    "\n",
    "with torch.no_grad():\n",
    "    for images, targets in tqdm(eval_loader, desc=\"Evaluating IoU\"):\n",
    "        image = images[0].to(device)\n",
    "        target = targets[0]\n",
    "        # Get ground truth boxes (convert to numpy for easier processing)\n",
    "        gt_boxes = target['boxes'].cpu().numpy()\n",
    "\n",
    "        # Run model inference\n",
    "        predictions = model([image])[0]\n",
    "        pred_boxes = predictions['boxes'].cpu().numpy()\n",
    "\n",
    "        # For each ground truth box, find the best (maximum) IoU with any predicted box.\n",
    "        for gt_box in gt_boxes:\n",
    "            best_iou = 0.0\n",
    "            for pred_box in pred_boxes:\n",
    "                iou = calculate_iou(gt_box, pred_box)\n",
    "                best_iou = max(best_iou, iou)\n",
    "            total_iou += best_iou\n",
    "            iou_count += 1\n",
    "\n",
    "# Compute average IoU over all ground truth boxes\n",
    "average_iou = total_iou / iou_count if iou_count > 0 else 0\n",
    "print(f\"Average IoU over the evaluation subset: {average_iou:.4f}\")\n"
   ]
  },
  {
   "cell_type": "code",
   "execution_count": null,
   "metadata": {
    "colab": {
     "base_uri": "https://localhost:8080/",
     "height": 487
    },
    "id": "FIKUjHwsn60c",
    "outputId": "417eee98-7976-4a5a-c00d-b6f0e31acc0b"
   },
   "outputs": [
    {
     "data": {
      "image/png": "[encoded data removed]",
      "text/plain": [
       "<Figure size 800x500 with 1 Axes>"
      ]
     },
     "metadata": {},
     "output_type": "display_data"
    }
   ],
   "source": [
    "import matplotlib.pyplot as plt\n",
    "\n",
    "# Manually enter the updated loss values\n",
    "losses_per_epoch = [7.1457, 5.5141, 4.3965, 4.4266, 4.9972, 4.7015, 5.0698]\n",
    "\n",
    "# Plot Training Loss\n",
    "plt.figure(figsize=(8, 5))\n",
    "plt.plot(range(1, 8), losses_per_epoch, marker='o', linestyle='-', color='b', label=\"Training Loss\")\n",
    "plt.xlabel(\"Epochs\")\n",
    "plt.ylabel(\"Total Loss\")\n",
    "plt.title(\"Training Loss over Epochs\")\n",
    "plt.legend()\n",
    "plt.grid(True)\n",
    "plt.show()\n"
   ]
  },
  {
   "cell_type": "code",
   "execution_count": null,
   "metadata": {
    "colab": {
     "base_uri": "https://localhost:8080/"
    },
    "id": "NVyXbgKviuHt",
    "outputId": "42bbf722-461b-4e91-f79f-ec1031b32934"
   },
   "outputs": [
    {
     "name": "stdout",
     "output_type": "stream",
     "text": [
      "Epoch 1/8\n"
     ]
    },
    {
     "name": "stderr",
     "output_type": "stream",
     "text": []
    },
    {
     "name": "stdout",
     "output_type": "stream",
     "text": [
      "Epoch 1, Total Loss: 6.6126\n",
      "Epoch 2/8\n"
     ]
    },
    {
     "name": "stderr",
     "output_type": "stream",
     "text": []
    },
    {
     "name": "stdout",
     "output_type": "stream",
     "text": [
      "Epoch 2, Total Loss: 4.8901\n",
      "Epoch 3/8\n"
     ]
    },
    {
     "name": "stderr",
     "output_type": "stream",
     "text": []
    },
    {
     "name": "stdout",
     "output_type": "stream",
     "text": [
      "Epoch 3, Total Loss: 5.0704\n",
      "Epoch 4/8\n"
     ]
    },
    {
     "name": "stderr",
     "output_type": "stream",
     "text": []
    },
    {
     "name": "stdout",
     "output_type": "stream",
     "text": [
      "Epoch 4, Total Loss: 4.7681\n",
      "Epoch 5/8\n"
     ]
    },
    {
     "name": "stderr",
     "output_type": "stream",
     "text": []
    },
    {
     "name": "stdout",
     "output_type": "stream",
     "text": [
      "Epoch 5, Total Loss: 5.0769\n",
      "Epoch 6/8\n"
     ]
    },
    {
     "name": "stderr",
     "output_type": "stream",
     "text": []
    },
    {
     "name": "stdout",
     "output_type": "stream",
     "text": [
      "Epoch 6, Total Loss: 4.5834\n",
      "Epoch 7/8\n"
     ]
    },
    {
     "name": "stderr",
     "output_type": "stream",
     "text": []
    },
    {
     "name": "stdout",
     "output_type": "stream",
     "text": [
      "Epoch 7, Total Loss: 4.4398\n",
      "Epoch 8/8\n"
     ]
    },
    {
     "name": "stderr",
     "output_type": "stream",
     "text": []
    },
    {
     "name": "stdout",
     "output_type": "stream",
     "text": [
      "Epoch 8, Total Loss: 4.3954\n",
      "Training of the dataset complete.\n"
     ]
    },
    {
     "name": "stderr",
     "output_type": "stream",
     "text": [
      "Evaluating IoU: 100%|██████████| 17/17 [02:14<00:00,  7.89s/it]"
     ]
    },
    {
     "name": "stdout",
     "output_type": "stream",
     "text": [
      "Average IoU over the evaluation subset: 0.0013\n"
     ]
    },
    {
     "name": "stderr",
     "output_type": "stream",
     "text": [
      "\n"
     ]
    }
   ],
   "source": [
    "import os\n",
    "import random\n",
    "import torch\n",
    "from torch.utils.data import Dataset, DataLoader, Subset\n",
    "from torchvision import transforms\n",
    "from torchvision.models.detection import FasterRCNN\n",
    "from torchvision.models.detection.rpn import AnchorGenerator\n",
    "from torchvision.models import vgg16\n",
    "import torchvision  # Needed for torchvision.ops.MultiScaleRoIAlign\n",
    "from tqdm import tqdm\n",
    "from PIL import Image\n",
    "import xml.etree.ElementTree as ET\n",
    "\n",
    "# Define PascalVOCDataset\n",
    "class PascalVOCDataset(Dataset):\n",
    "    def __init__(self, root_dir, transform=None):\n",
    "        self.root_dir = root_dir\n",
    "        self.image_dir = os.path.join(root_dir, 'JPEGImages')\n",
    "        self.annotations_dir = os.path.join(root_dir, 'Annotations')\n",
    "        self.image_ids = [f[:-4] for f in os.listdir(self.image_dir) if f.endswith('.jpg')]\n",
    "        self.transform = transform\n",
    "\n",
    "    def __len__(self):\n",
    "        return len(self.image_ids)\n",
    "\n",
    "    def __getitem__(self, idx):\n",
    "        image_id = self.image_ids[idx]\n",
    "        img_path = os.path.join(self.image_dir, f'{image_id}.jpg')\n",
    "        ann_path = os.path.join(self.annotations_dir, f'{image_id}.xml')\n",
    "\n",
    "        img = Image.open(img_path).convert(\"RGB\")\n",
    "        boxes, labels = self.parse_voc_annotation(ann_path)\n",
    "\n",
    "        if self.transform:\n",
    "            img = self.transform(img)\n",
    "\n",
    "        target = {'boxes': boxes, 'labels': labels, 'image_id': torch.tensor([idx])}\n",
    "        return img, target\n",
    "\n",
    "    def parse_voc_annotation(self, ann_path):\n",
    "        tree = ET.parse(ann_path)\n",
    "        root = tree.getroot()\n",
    "\n",
    "        boxes = []\n",
    "        labels = []\n",
    "        for obj in root.findall('object'):\n",
    "            label = obj.find('name').text\n",
    "            bbox = obj.find('bndbox')\n",
    "            xmin = float(bbox.find('xmin').text)\n",
    "            ymin = float(bbox.find('ymin').text)\n",
    "            xmax = float(bbox.find('xmax').text)\n",
    "            ymax = float(bbox.find('ymax').text)\n",
    "            boxes.append([xmin, ymin, xmax, ymax])\n",
    "            labels.append(1)  # Assuming one class; modify if needed\n",
    "\n",
    "        return torch.tensor(boxes, dtype=torch.float32), torch.tensor(labels, dtype=torch.int64)\n",
    "\n",
    "# Define Faster R-CNN model\n",
    "def get_faster_rcnn_model(num_classes):\n",
    "    backbone = vgg16(pretrained=True).features\n",
    "    backbone.out_channels = 512\n",
    "\n",
    "    anchor_generator = AnchorGenerator(\n",
    "        sizes=((32, 64, 128, 256, 512),),\n",
    "        aspect_ratios=((0.5, 1.0, 2.0),)\n",
    "    )\n",
    "\n",
    "    roi_pooler = torchvision.ops.MultiScaleRoIAlign(\n",
    "        featmap_names=['0'],\n",
    "        output_size=7,\n",
    "        sampling_ratio=2\n",
    "    )\n",
    "\n",
    "    model = FasterRCNN(\n",
    "        backbone=backbone,\n",
    "        num_classes=num_classes,\n",
    "        rpn_anchor_generator=anchor_generator,\n",
    "        box_roi_pool=roi_pooler\n",
    "    )\n",
    "\n",
    "    return model\n",
    "\n",
    "# Define the IoU calculation function\n",
    "def calculate_iou(box1, box2):\n",
    "    \"\"\"\n",
    "    Calculate Intersection over Union (IoU) for two bounding boxes.\n",
    "    Each box is expected in the format [xmin, ymin, xmax, ymax].\n",
    "    \"\"\"\n",
    "    # Determine the coordinates of the intersection rectangle\n",
    "    x1 = max(box1[0], box2[0])\n",
    "    y1 = max(box1[1], box2[1])\n",
    "    x2 = min(box1[2], box2[2])\n",
    "    y2 = min(box1[3], box2[3])\n",
    "\n",
    "    # Compute the width and height of the intersection rectangle\n",
    "    intersection_width = max(0, x2 - x1)\n",
    "    intersection_height = max(0, y2 - y1)\n",
    "    intersection = intersection_width * intersection_height\n",
    "\n",
    "    # Compute the area of each box\n",
    "    area1 = (box1[2] - box1[0]) * (box1[3] - box1[1])\n",
    "    area2 = (box2[2] - box2[0]) * (box2[3] - box2[1])\n",
    "\n",
    "    # Compute the union\n",
    "    union = area1 + area2 - intersection\n",
    "    if union == 0:\n",
    "        return 0\n",
    "    return intersection / union\n",
    "\n",
    "# Paths and dataset preparation\n",
    "dataset_path = '/content/drive/MyDrive/pascal-voc-2012-dataset/VOC2012_train_val/VOC2012_train_val'\n",
    "transform = transforms.Compose([\n",
    "    transforms.ToTensor()\n",
    "])\n",
    "\n",
    "train_dataset = PascalVOCDataset(root_dir=dataset_path, transform=transform)\n",
    "\n",
    "\n",
    "total_images = len(train_dataset)\n",
    "subset_size = max(1, int(0.1 * total_images)) \n",
    "random_indices = random.sample(range(total_images), subset_size)\n",
    "subset_dataset = Subset(train_dataset, random_indices)\n",
    "\n",
    "# Create DataLoader\n",
    "subset_loader = DataLoader(subset_dataset, batch_size=4, shuffle=True, collate_fn=lambda x: tuple(zip(*x)))\n",
    "\n",
    "# Initialize model, optimizer, and scheduler\n",
    "device = torch.device('cuda') if torch.cuda.is_available() else torch.device('cpu')\n",
    "num_classes = 2  # number of classes (including background)\n",
    "model = get_faster_rcnn_model(num_classes).to(device)\n",
    "\n",
    "optimizer = torch.optim.SGD(model.parameters(), lr=0.005, momentum=0.9, weight_decay=0.0005)\n",
    "lr_scheduler = torch.optim.lr_scheduler.StepLR(optimizer, step_size=3, gamma=0.1)\n",
    "\n",
    "# Training loop with subset\n",
    "for epoch in range(8):  # Number of epochs\n",
    "    model.train()\n",
    "    epoch_loss = 0\n",
    "\n",
    "    print(f\"Epoch {epoch + 1}/8\")\n",
    "    progress_bar = tqdm(subset_loader, desc=f\"Training Epoch {epoch + 1}\", leave=False)\n",
    "\n",
    "    for images, targets in progress_bar:\n",
    "        images = [img.to(device) for img in images]\n",
    "        targets = [{k: v.to(device) for k, v in t.items()} for t in targets]\n",
    "\n",
    "        optimizer.zero_grad()\n",
    "        loss_dict = model(images, targets)\n",
    "        losses = sum(loss for loss in loss_dict.values())\n",
    "\n",
    "        losses.backward()\n",
    "        optimizer.step()\n",
    "\n",
    "        epoch_loss += losses.item()\n",
    "\n",
    "        # Update progress bar with the current loss\n",
    "        progress_bar.set_postfix(loss=f\"{losses.item():.4f}\")\n",
    "\n",
    "    print(f\"Epoch {epoch + 1}, Total Loss: {epoch_loss:.4f}\")\n",
    "    lr_scheduler.step()\n",
    "\n",
    "print(\"Training of the dataset complete.\")\n",
    "\n",
    "# ---------------------------\n",
    "# IoU Evaluation on the subset\n",
    "# ---------------------------\n",
    "model.eval()\n",
    "total_iou = 0.0\n",
    "iou_count = 0\n",
    "\n",
    "# For evaluation, we use a DataLoader with batch_size=1\n",
    "eval_loader = DataLoader(subset_dataset, batch_size=1, shuffle=False, collate_fn=lambda x: tuple(zip(*x)))\n",
    "\n",
    "with torch.no_grad():\n",
    "    for images, targets in tqdm(eval_loader, desc=\"Evaluating IoU\"):\n",
    "        image = images[0].to(device)\n",
    "        target = targets[0]\n",
    "        # Get ground truth boxes (convert to numpy for easier processing)\n",
    "        gt_boxes = target['boxes'].cpu().numpy()\n",
    "\n",
    "        # Run model inference\n",
    "        predictions = model([image])[0]\n",
    "        pred_boxes = predictions['boxes'].cpu().numpy()\n",
    "\n",
    "        # For each ground truth box, find the best (maximum) IoU with any predicted box.\n",
    "        for gt_box in gt_boxes:\n",
    "            best_iou = 0.0\n",
    "            for pred_box in pred_boxes:\n",
    "                iou = calculate_iou(gt_box, pred_box)\n",
    "                best_iou = max(best_iou, iou)\n",
    "            total_iou += best_iou\n",
    "            iou_count += 1\n",
    "\n",
    "# Compute average IoU over all ground truth boxes\n",
    "average_iou = total_iou / iou_count if iou_count > 0 else 0\n",
    "print(f\"Average IoU over the evaluation subset: {average_iou:.4f}\")\n"
   ]
  },
  {
   "cell_type": "code",
   "execution_count": null,
   "metadata": {
    "colab": {
     "base_uri": "https://localhost:8080/",
     "height": 487
    },
    "id": "ebFGkuGaoI2l",
    "outputId": "e3a1ae15-0192-4ae6-8e93-6c0543bfe131"
   },
   "outputs": [
    {
     "data": {
      "image/png": "[encoded data removed]",
      "text/plain": [
       "<Figure size 800x500 with 1 Axes>"
      ]
     },
     "metadata": {},
     "output_type": "display_data"
    }
   ],
   "source": [
    "import matplotlib.pyplot as plt\n",
    "\n",
    "# Manually enter the updated loss values\n",
    "losses_per_epoch = [6.6126, 4.8901, 5.0704, 4.7681, 5.0769, 4.5834, 4.4398, 4.3954]\n",
    "\n",
    "# Plot Training Loss\n",
    "plt.figure(figsize=(8, 5))\n",
    "plt.plot(range(1, 9), losses_per_epoch, marker='o', linestyle='-', color='b', label=\"Training Loss\")\n",
    "plt.xlabel(\"Epochs\")\n",
    "plt.ylabel(\"Total Loss\")\n",
    "plt.title(\"Training Loss over Epochs\")\n",
    "plt.legend()\n",
    "plt.grid(True)\n",
    "plt.show()\n"
   ]
  },
  {
   "cell_type": "code",
   "execution_count": null,
   "metadata": {
    "colab": {
     "base_uri": "https://localhost:8080/",
     "height": 607
    },
    "id": "f5DSDM_QoqIK",
    "outputId": "0c742d39-7bea-4105-f1d6-332ba0cbd4b1"
   },
   "outputs": [
    {
     "data": {
      "image/png": "[encoded data removed]",
      "text/plain": [
       "<Figure size 1200x600 with 1 Axes>"
      ]
     },
     "metadata": {},
     "output_type": "display_data"
    }
   ],
   "source": [
    "import matplotlib.pyplot as plt\n",
    "\n",
    "# Epochs and Losses\n",
    "epochs = [1, 2, 3, 4, 5]\n",
    "losses = [7.3962, 5.4107, 4.8818, 5.2396, 5.0997]\n",
    "\n",
    "# Average IoU values per epoch\n",
    "iou_values = [0.0088, 0.0045, 0.0008, 0.0013]\n",
    "\n",
    "# Plot Training Loss\n",
    "plt.figure(figsize=(12, 6))\n",
    "\n",
    "# Subplot 1: Training Loss\n",
    "plt.subplot(1, 2, 1)\n",
    "plt.plot(epochs, losses, marker='o', linestyle='-', color='b', label=\"Training Loss\")\n",
    "plt.xlabel(\"Epochs\")\n",
    "plt.ylabel(\"Total Loss\")\n",
    "plt.title(\"Training Loss per Epoch\")\n",
    "plt.grid(True)\n",
    "\n",
    "# # Subplot 2: Average IoU\n",
    "# plt.subplot(1, 2, 2)\n",
    "# plt.plot(epochs[:4], iou_values, marker='o', linestyle='-', color='g', label=\"Average IoU\")\n",
    "# plt.xlabel(\"Epochs\")\n",
    "# plt.ylabel(\"Average IoU\")\n",
    "# plt.title(\"Average IoU per Epoch\")\n",
    "# plt.grid(True)\n",
    "\n",
    "# Show both plots\n",
    "plt.tight_layout()\n",
    "plt.show()\n"
   ]
  },
  {
   "cell_type": "code",
   "execution_count": null,
   "metadata": {
    "colab": {
     "base_uri": "https://localhost:8080/",
     "height": 487
    },
    "id": "PTgVCdwnpsDS",
    "outputId": "6fe1db35-1ff0-49af-b6b7-59bff227d66b"
   },
   "outputs": [
    {
     "data": {
      "image/png": "[encoded data removed]",
      "text/plain": [
       "<Figure size 800x500 with 1 Axes>"
      ]
     },
     "metadata": {},
     "output_type": "display_data"
    }
   ],
   "source": [
    "import matplotlib.pyplot as plt\n",
    "\n",
    "# Epochs and IoU values (Updated)\n",
    "epochs = [1,2,3,4,5, 6, 7, 8]\n",
    "iou_values = [0.1509,0.3740,0.0394,0.3811,0.0088, 0.0045, 0.0008, 0.0013]  # IoU values for epochs 5, 6, 7, and 8\n",
    "\n",
    "# Plot IoU vs Epochs\n",
    "plt.figure(figsize=(8, 5))\n",
    "plt.plot(epochs, iou_values, marker='o', linestyle='-', color='r', label=\"Average IoU\")\n",
    "\n",
    "plt.xlabel(\"Epochs\")\n",
    "plt.ylabel(\"Average IoU\")\n",
    "plt.title(\"IoU per Epoch\")\n",
    "plt.grid(True)\n",
    "plt.legend()\n",
    "\n",
    "# Show plot\n",
    "plt.show()\n"
   ]
  },
  {
   "cell_type": "code",
   "execution_count": null,
   "metadata": {
    "colab": {
     "background_save": true,
     "base_uri": "https://localhost:8080/"
    },
    "id": "AakIPLs6hIae",
    "outputId": "44eec183-b73b-4b29-99f3-c9a44f2ccdd1"
   },
   "outputs": [
    {
     "name": "stdout",
     "output_type": "stream",
     "text": [
      "Epoch 1/9\n"
     ]
    },
    {
     "name": "stderr",
     "output_type": "stream",
     "text": [
      "Training Epoch 1:  77%|███████▋  | 17/22 [57:44<17:54, 214.87s/it, loss=1.0070]"
     ]
    }
   ],
   "source": [
    "import os\n",
    "import random\n",
    "import torch\n",
    "from torch.utils.data import Dataset, DataLoader, Subset\n",
    "from torchvision import transforms\n",
    "from torchvision.models.detection import FasterRCNN\n",
    "from torchvision.models.detection.rpn import AnchorGenerator\n",
    "from torchvision.models import vgg16\n",
    "import torchvision  # Needed for torchvision.ops.MultiScaleRoIAlign\n",
    "from tqdm import tqdm\n",
    "from PIL import Image\n",
    "import xml.etree.ElementTree as ET\n",
    "\n",
    "# Define PascalVOCDataset\n",
    "class PascalVOCDataset(Dataset):\n",
    "    def __init__(self, root_dir, transform=None):\n",
    "        self.root_dir = root_dir\n",
    "        self.image_dir = os.path.join(root_dir, 'JPEGImages')\n",
    "        self.annotations_dir = os.path.join(root_dir, 'Annotations')\n",
    "        self.image_ids = [f[:-4] for f in os.listdir(self.image_dir) if f.endswith('.jpg')]\n",
    "        self.transform = transform\n",
    "\n",
    "    def __len__(self):\n",
    "        return len(self.image_ids)\n",
    "\n",
    "    def __getitem__(self, idx):\n",
    "        image_id = self.image_ids[idx]\n",
    "        img_path = os.path.join(self.image_dir, f'{image_id}.jpg')\n",
    "        ann_path = os.path.join(self.annotations_dir, f'{image_id}.xml')\n",
    "\n",
    "        img = Image.open(img_path).convert(\"RGB\")\n",
    "        boxes, labels = self.parse_voc_annotation(ann_path)\n",
    "\n",
    "        if self.transform:\n",
    "            img = self.transform(img)\n",
    "\n",
    "        target = {'boxes': boxes, 'labels': labels, 'image_id': torch.tensor([idx])}\n",
    "        return img, target\n",
    "\n",
    "    def parse_voc_annotation(self, ann_path):\n",
    "        tree = ET.parse(ann_path)\n",
    "        root = tree.getroot()\n",
    "\n",
    "        boxes = []\n",
    "        labels = []\n",
    "        for obj in root.findall('object'):\n",
    "            label = obj.find('name').text\n",
    "            bbox = obj.find('bndbox')\n",
    "            xmin = float(bbox.find('xmin').text)\n",
    "            ymin = float(bbox.find('ymin').text)\n",
    "            xmax = float(bbox.find('xmax').text)\n",
    "            ymax = float(bbox.find('ymax').text)\n",
    "            boxes.append([xmin, ymin, xmax, ymax])\n",
    "            labels.append(1)  # Assuming one class; modify if needed\n",
    "\n",
    "        return torch.tensor(boxes, dtype=torch.float32), torch.tensor(labels, dtype=torch.int64)\n",
    "\n",
    "# Define Faster R-CNN model\n",
    "def get_faster_rcnn_model(num_classes):\n",
    "    backbone = vgg16(pretrained=True).features\n",
    "    backbone.out_channels = 512\n",
    "\n",
    "    anchor_generator = AnchorGenerator(\n",
    "        sizes=((32, 64, 128, 256, 512),),\n",
    "        aspect_ratios=((0.5, 1.0, 2.0),)\n",
    "    )\n",
    "\n",
    "    roi_pooler = torchvision.ops.MultiScaleRoIAlign(\n",
    "        featmap_names=['0'],\n",
    "        output_size=7,\n",
    "        sampling_ratio=2\n",
    "    )\n",
    "\n",
    "    model = FasterRCNN(\n",
    "        backbone=backbone,\n",
    "        num_classes=num_classes,\n",
    "        rpn_anchor_generator=anchor_generator,\n",
    "        box_roi_pool=roi_pooler\n",
    "    )\n",
    "\n",
    "    return model\n",
    "\n",
    "# Define the IoU calculation function\n",
    "def calculate_iou(box1, box2):\n",
    "    \"\"\"\n",
    "    Calculate Intersection over Union (IoU) for two bounding boxes.\n",
    "    Each box is expected in the format [xmin, ymin, xmax, ymax].\n",
    "    \"\"\"\n",
    "    # Determine the coordinates of the intersection rectangle\n",
    "    x1 = max(box1[0], box2[0])\n",
    "    y1 = max(box1[1], box2[1])\n",
    "    x2 = min(box1[2], box2[2])\n",
    "    y2 = min(box1[3], box2[3])\n",
    "\n",
    "    # Compute the width and height of the intersection rectangle\n",
    "    intersection_width = max(0, x2 - x1)\n",
    "    intersection_height = max(0, y2 - y1)\n",
    "    intersection = intersection_width * intersection_height\n",
    "\n",
    "    # Compute the area of each box\n",
    "    area1 = (box1[2] - box1[0]) * (box1[3] - box1[1])\n",
    "    area2 = (box2[2] - box2[0]) * (box2[3] - box2[1])\n",
    "\n",
    "    # Compute the union\n",
    "    union = area1 + area2 - intersection\n",
    "    if union == 0:\n",
    "        return 0\n",
    "    return intersection / union\n",
    "\n",
    "# Paths and dataset preparation\n",
    "dataset_path = '/content/drive/MyDrive/pascal-voc-2012-dataset/VOC2012_train_val/VOC2012_train_val'\n",
    "transform = transforms.Compose([\n",
    "    transforms.ToTensor()\n",
    "])\n",
    "\n",
    "train_dataset = PascalVOCDataset(root_dir=dataset_path, transform=transform)\n",
    "\n",
    "\n",
    "total_images = len(train_dataset)\n",
    "subset_size = max(1, int(0.1* total_images))  \n",
    "random_indices = random.sample(range(total_images), subset_size)\n",
    "subset_dataset = Subset(train_dataset, random_indices)\n",
    "\n",
    "# Create DataLoader\n",
    "subset_loader = DataLoader(subset_dataset, batch_size=4, shuffle=True, collate_fn=lambda x: tuple(zip(*x)))\n",
    "\n",
    "# Initialize model, optimizer, and scheduler\n",
    "device = torch.device('cuda') if torch.cuda.is_available() else torch.device('cpu')\n",
    "num_classes = 2  # number of classes (including background)\n",
    "model = get_faster_rcnn_model(num_classes).to(device)\n",
    "\n",
    "optimizer = torch.optim.SGD(model.parameters(), lr=0.005, momentum=0.9, weight_decay=0.0005)\n",
    "lr_scheduler = torch.optim.lr_scheduler.StepLR(optimizer, step_size=3, gamma=0.1)\n",
    "\n",
    "# Training loop with subset\n",
    "for epoch in range(9):  # Number of epochs\n",
    "    model.train()\n",
    "    epoch_loss = 0\n",
    "\n",
    "    print(f\"Epoch {epoch + 1}/9\")\n",
    "    progress_bar = tqdm(subset_loader, desc=f\"Training Epoch {epoch + 1}\", leave=False)\n",
    "\n",
    "    for images, targets in progress_bar:\n",
    "        images = [img.to(device) for img in images]\n",
    "        targets = [{k: v.to(device) for k, v in t.items()} for t in targets]\n",
    "\n",
    "        optimizer.zero_grad()\n",
    "        loss_dict = model(images, targets)\n",
    "        losses = sum(loss for loss in loss_dict.values())\n",
    "\n",
    "        losses.backward()\n",
    "        optimizer.step()\n",
    "\n",
    "        epoch_loss += losses.item()\n",
    "\n",
    "        # Update progress bar with the current loss\n",
    "        progress_bar.set_postfix(loss=f\"{losses.item():.4f}\")\n",
    "\n",
    "    print(f\"Epoch {epoch + 1}, Total Loss: {epoch_loss:.4f}\")\n",
    "    lr_scheduler.step()\n",
    "\n",
    "print(\"Training of the dataset complete.\")\n",
    "\n",
    "# ---------------------------\n",
    "# IoU Evaluation on the subset\n",
    "# ---------------------------\n",
    "model.eval()\n",
    "total_iou = 0.0\n",
    "iou_count = 0\n",
    "\n",
    "# For evaluation, we use a DataLoader with batch_size=1\n",
    "eval_loader = DataLoader(subset_dataset, batch_size=1, shuffle=False, collate_fn=lambda x: tuple(zip(*x)))\n",
    "\n",
    "with torch.no_grad():\n",
    "    for images, targets in tqdm(eval_loader, desc=\"Evaluating IoU\"):\n",
    "        image = images[0].to(device)\n",
    "        target = targets[0]\n",
    "        # Get ground truth boxes (convert to numpy for easier processing)\n",
    "        gt_boxes = target['boxes'].cpu().numpy()\n",
    "\n",
    "        # Run model inference\n",
    "        predictions = model([image])[0]\n",
    "        pred_boxes = predictions['boxes'].cpu().numpy()\n",
    "\n",
    "        # For each ground truth box, find the best (maximum) IoU with any predicted box.\n",
    "        for gt_box in gt_boxes:\n",
    "            best_iou = 0.0\n",
    "            for pred_box in pred_boxes:\n",
    "                iou = calculate_iou(gt_box, pred_box)\n",
    "                best_iou = max(best_iou, iou)\n",
    "            total_iou += best_iou\n",
    "            iou_count += 1\n",
    "\n",
    "# Compute average IoU over all ground truth boxes\n",
    "average_iou = total_iou / iou_count if iou_count > 0 else 0\n",
    "print(f\"Average IoU over the evaluation subset: {average_iou:.4f}\")\n"
   ]
  }
 ],
 "metadata": {
  "accelerator": "TPU",
  "colab": {
   "gpuType": "V28",
   "provenance": []
  },
  "kernelspec": {
   "display_name": "Python 3 (ipykernel)",
   "language": "python",
   "name": "python3"
  },
  "language_info": {
   "codemirror_mode": {
    "name": "ipython",
    "version": 3
   },
   "file_extension": ".py",
   "mimetype": "text/x-python",
   "name": "python",
   "nbconvert_exporter": "python",
   "pygments_lexer": "ipython3",
   "version": "3.12.4"
  }
 },
 "nbformat": 4,
 "nbformat_minor": 4
}
